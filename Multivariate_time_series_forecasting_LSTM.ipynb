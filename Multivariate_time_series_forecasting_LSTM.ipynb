{
  "nbformat": 4,
  "nbformat_minor": 0,
  "metadata": {
    "colab": {
      "provenance": [],
      "authorship_tag": "ABX9TyOg7Ygf1sMgZ4/nOoMEBkPu",
      "include_colab_link": true
    },
    "kernelspec": {
      "name": "python3",
      "display_name": "Python 3"
    },
    "language_info": {
      "name": "python"
    }
  },
  "cells": [
    {
      "cell_type": "markdown",
      "metadata": {
        "id": "view-in-github",
        "colab_type": "text"
      },
      "source": [
        "<a href=\"https://colab.research.google.com/github/shimul1725/Multivariate-time-series-forecasting-LSTM/blob/main/Multivariate_time_series_forecasting_LSTM.ipynb\" target=\"_parent\"><img src=\"https://colab.research.google.com/assets/colab-badge.svg\" alt=\"Open In Colab\"/></a>"
      ]
    },
    {
      "cell_type": "code",
      "execution_count": 1,
      "metadata": {
        "id": "VPytZNxQ8E24"
      },
      "outputs": [],
      "source": [
        "import numpy as np\n",
        "from tensorflow.keras.models import Sequential\n",
        "from tensorflow.keras.layers import LSTM\n",
        "from tensorflow.keras.layers import Dense, Dropout\n",
        "import pandas as pd\n",
        "from matplotlib import pyplot as plt\n",
        "from sklearn.preprocessing import MinMaxScaler\n",
        "import seaborn as sns"
      ]
    },
    {
      "cell_type": "code",
      "source": [
        "df=pd.read_csv(\"train.csv\",parse_dates=[\"Date\"],index_col=[0])"
      ],
      "metadata": {
        "id": "fqGZfUNo9Xij"
      },
      "execution_count": 2,
      "outputs": []
    },
    {
      "cell_type": "code",
      "source": [
        "print(df.index.freq)"
      ],
      "metadata": {
        "colab": {
          "base_uri": "https://localhost:8080/"
        },
        "id": "G_cFQJnf9cpv",
        "outputId": "525dd9ef-6b0b-4a38-a636-6118ca925162"
      },
      "execution_count": 3,
      "outputs": [
        {
          "output_type": "stream",
          "name": "stdout",
          "text": [
            "None\n"
          ]
        }
      ]
    },
    {
      "cell_type": "code",
      "source": [
        "df.shape"
      ],
      "metadata": {
        "colab": {
          "base_uri": "https://localhost:8080/"
        },
        "id": "8dUBmfhr9gHG",
        "outputId": "0e334b69-2108-4c6a-a3e0-dc066893a178"
      },
      "execution_count": 4,
      "outputs": [
        {
          "output_type": "execute_result",
          "data": {
            "text/plain": [
              "(5203, 5)"
            ]
          },
          "metadata": {},
          "execution_count": 4
        }
      ]
    },
    {
      "cell_type": "code",
      "source": [
        "df.head()"
      ],
      "metadata": {
        "colab": {
          "base_uri": "https://localhost:8080/",
          "height": 238
        },
        "id": "VShEYiVp9v4o",
        "outputId": "2f091f4a-0124-4824-f8d4-9ce09faedbbd"
      },
      "execution_count": 5,
      "outputs": [
        {
          "output_type": "execute_result",
          "data": {
            "text/plain": [
              "                  Open        High         Low       Close   Adj Close\n",
              "Date                                                                  \n",
              "2001-01-25  356.730774  362.980774  352.403839  353.365387  197.122452\n",
              "2001-01-26  357.211548  360.096161  342.788452  343.269226  191.490234\n",
              "2001-01-29  345.153839  355.769226  338.461548  341.384613  190.439011\n",
              "2001-01-30  344.307678  355.923065  341.692322  355.769226  198.463318\n",
              "2001-01-31  359.615387  361.153839  350.461548  353.692322  197.304749"
            ],
            "text/html": [
              "\n",
              "\n",
              "  <div id=\"df-89fc92d9-051f-4742-80ab-de368710ec3e\">\n",
              "    <div class=\"colab-df-container\">\n",
              "      <div>\n",
              "<style scoped>\n",
              "    .dataframe tbody tr th:only-of-type {\n",
              "        vertical-align: middle;\n",
              "    }\n",
              "\n",
              "    .dataframe tbody tr th {\n",
              "        vertical-align: top;\n",
              "    }\n",
              "\n",
              "    .dataframe thead th {\n",
              "        text-align: right;\n",
              "    }\n",
              "</style>\n",
              "<table border=\"1\" class=\"dataframe\">\n",
              "  <thead>\n",
              "    <tr style=\"text-align: right;\">\n",
              "      <th></th>\n",
              "      <th>Open</th>\n",
              "      <th>High</th>\n",
              "      <th>Low</th>\n",
              "      <th>Close</th>\n",
              "      <th>Adj Close</th>\n",
              "    </tr>\n",
              "    <tr>\n",
              "      <th>Date</th>\n",
              "      <th></th>\n",
              "      <th></th>\n",
              "      <th></th>\n",
              "      <th></th>\n",
              "      <th></th>\n",
              "    </tr>\n",
              "  </thead>\n",
              "  <tbody>\n",
              "    <tr>\n",
              "      <th>2001-01-25</th>\n",
              "      <td>356.730774</td>\n",
              "      <td>362.980774</td>\n",
              "      <td>352.403839</td>\n",
              "      <td>353.365387</td>\n",
              "      <td>197.122452</td>\n",
              "    </tr>\n",
              "    <tr>\n",
              "      <th>2001-01-26</th>\n",
              "      <td>357.211548</td>\n",
              "      <td>360.096161</td>\n",
              "      <td>342.788452</td>\n",
              "      <td>343.269226</td>\n",
              "      <td>191.490234</td>\n",
              "    </tr>\n",
              "    <tr>\n",
              "      <th>2001-01-29</th>\n",
              "      <td>345.153839</td>\n",
              "      <td>355.769226</td>\n",
              "      <td>338.461548</td>\n",
              "      <td>341.384613</td>\n",
              "      <td>190.439011</td>\n",
              "    </tr>\n",
              "    <tr>\n",
              "      <th>2001-01-30</th>\n",
              "      <td>344.307678</td>\n",
              "      <td>355.923065</td>\n",
              "      <td>341.692322</td>\n",
              "      <td>355.769226</td>\n",
              "      <td>198.463318</td>\n",
              "    </tr>\n",
              "    <tr>\n",
              "      <th>2001-01-31</th>\n",
              "      <td>359.615387</td>\n",
              "      <td>361.153839</td>\n",
              "      <td>350.461548</td>\n",
              "      <td>353.692322</td>\n",
              "      <td>197.304749</td>\n",
              "    </tr>\n",
              "  </tbody>\n",
              "</table>\n",
              "</div>\n",
              "      <button class=\"colab-df-convert\" onclick=\"convertToInteractive('df-89fc92d9-051f-4742-80ab-de368710ec3e')\"\n",
              "              title=\"Convert this dataframe to an interactive table.\"\n",
              "              style=\"display:none;\">\n",
              "\n",
              "  <svg xmlns=\"http://www.w3.org/2000/svg\" height=\"24px\"viewBox=\"0 0 24 24\"\n",
              "       width=\"24px\">\n",
              "    <path d=\"M0 0h24v24H0V0z\" fill=\"none\"/>\n",
              "    <path d=\"M18.56 5.44l.94 2.06.94-2.06 2.06-.94-2.06-.94-.94-2.06-.94 2.06-2.06.94zm-11 1L8.5 8.5l.94-2.06 2.06-.94-2.06-.94L8.5 2.5l-.94 2.06-2.06.94zm10 10l.94 2.06.94-2.06 2.06-.94-2.06-.94-.94-2.06-.94 2.06-2.06.94z\"/><path d=\"M17.41 7.96l-1.37-1.37c-.4-.4-.92-.59-1.43-.59-.52 0-1.04.2-1.43.59L10.3 9.45l-7.72 7.72c-.78.78-.78 2.05 0 2.83L4 21.41c.39.39.9.59 1.41.59.51 0 1.02-.2 1.41-.59l7.78-7.78 2.81-2.81c.8-.78.8-2.07 0-2.86zM5.41 20L4 18.59l7.72-7.72 1.47 1.35L5.41 20z\"/>\n",
              "  </svg>\n",
              "      </button>\n",
              "\n",
              "\n",
              "\n",
              "    <div id=\"df-555c87b1-95a7-44fa-a4de-6990a9e8574b\">\n",
              "      <button class=\"colab-df-quickchart\" onclick=\"quickchart('df-555c87b1-95a7-44fa-a4de-6990a9e8574b')\"\n",
              "              title=\"Suggest charts.\"\n",
              "              style=\"display:none;\">\n",
              "\n",
              "<svg xmlns=\"http://www.w3.org/2000/svg\" height=\"24px\"viewBox=\"0 0 24 24\"\n",
              "     width=\"24px\">\n",
              "    <g>\n",
              "        <path d=\"M19 3H5c-1.1 0-2 .9-2 2v14c0 1.1.9 2 2 2h14c1.1 0 2-.9 2-2V5c0-1.1-.9-2-2-2zM9 17H7v-7h2v7zm4 0h-2V7h2v10zm4 0h-2v-4h2v4z\"/>\n",
              "    </g>\n",
              "</svg>\n",
              "      </button>\n",
              "    </div>\n",
              "\n",
              "<style>\n",
              "  .colab-df-quickchart {\n",
              "    background-color: #E8F0FE;\n",
              "    border: none;\n",
              "    border-radius: 50%;\n",
              "    cursor: pointer;\n",
              "    display: none;\n",
              "    fill: #1967D2;\n",
              "    height: 32px;\n",
              "    padding: 0 0 0 0;\n",
              "    width: 32px;\n",
              "  }\n",
              "\n",
              "  .colab-df-quickchart:hover {\n",
              "    background-color: #E2EBFA;\n",
              "    box-shadow: 0px 1px 2px rgba(60, 64, 67, 0.3), 0px 1px 3px 1px rgba(60, 64, 67, 0.15);\n",
              "    fill: #174EA6;\n",
              "  }\n",
              "\n",
              "  [theme=dark] .colab-df-quickchart {\n",
              "    background-color: #3B4455;\n",
              "    fill: #D2E3FC;\n",
              "  }\n",
              "\n",
              "  [theme=dark] .colab-df-quickchart:hover {\n",
              "    background-color: #434B5C;\n",
              "    box-shadow: 0px 1px 3px 1px rgba(0, 0, 0, 0.15);\n",
              "    filter: drop-shadow(0px 1px 2px rgba(0, 0, 0, 0.3));\n",
              "    fill: #FFFFFF;\n",
              "  }\n",
              "</style>\n",
              "\n",
              "    <script>\n",
              "      async function quickchart(key) {\n",
              "        const containerElement = document.querySelector('#' + key);\n",
              "        const charts = await google.colab.kernel.invokeFunction(\n",
              "            'suggestCharts', [key], {});\n",
              "      }\n",
              "    </script>\n",
              "\n",
              "      <script>\n",
              "\n",
              "function displayQuickchartButton(domScope) {\n",
              "  let quickchartButtonEl =\n",
              "    domScope.querySelector('#df-555c87b1-95a7-44fa-a4de-6990a9e8574b button.colab-df-quickchart');\n",
              "  quickchartButtonEl.style.display =\n",
              "    google.colab.kernel.accessAllowed ? 'block' : 'none';\n",
              "}\n",
              "\n",
              "        displayQuickchartButton(document);\n",
              "      </script>\n",
              "      <style>\n",
              "    .colab-df-container {\n",
              "      display:flex;\n",
              "      flex-wrap:wrap;\n",
              "      gap: 12px;\n",
              "    }\n",
              "\n",
              "    .colab-df-convert {\n",
              "      background-color: #E8F0FE;\n",
              "      border: none;\n",
              "      border-radius: 50%;\n",
              "      cursor: pointer;\n",
              "      display: none;\n",
              "      fill: #1967D2;\n",
              "      height: 32px;\n",
              "      padding: 0 0 0 0;\n",
              "      width: 32px;\n",
              "    }\n",
              "\n",
              "    .colab-df-convert:hover {\n",
              "      background-color: #E2EBFA;\n",
              "      box-shadow: 0px 1px 2px rgba(60, 64, 67, 0.3), 0px 1px 3px 1px rgba(60, 64, 67, 0.15);\n",
              "      fill: #174EA6;\n",
              "    }\n",
              "\n",
              "    [theme=dark] .colab-df-convert {\n",
              "      background-color: #3B4455;\n",
              "      fill: #D2E3FC;\n",
              "    }\n",
              "\n",
              "    [theme=dark] .colab-df-convert:hover {\n",
              "      background-color: #434B5C;\n",
              "      box-shadow: 0px 1px 3px 1px rgba(0, 0, 0, 0.15);\n",
              "      filter: drop-shadow(0px 1px 2px rgba(0, 0, 0, 0.3));\n",
              "      fill: #FFFFFF;\n",
              "    }\n",
              "  </style>\n",
              "\n",
              "      <script>\n",
              "        const buttonEl =\n",
              "          document.querySelector('#df-89fc92d9-051f-4742-80ab-de368710ec3e button.colab-df-convert');\n",
              "        buttonEl.style.display =\n",
              "          google.colab.kernel.accessAllowed ? 'block' : 'none';\n",
              "\n",
              "        async function convertToInteractive(key) {\n",
              "          const element = document.querySelector('#df-89fc92d9-051f-4742-80ab-de368710ec3e');\n",
              "          const dataTable =\n",
              "            await google.colab.kernel.invokeFunction('convertToInteractive',\n",
              "                                                     [key], {});\n",
              "          if (!dataTable) return;\n",
              "\n",
              "          const docLinkHtml = 'Like what you see? Visit the ' +\n",
              "            '<a target=\"_blank\" href=https://colab.research.google.com/notebooks/data_table.ipynb>data table notebook</a>'\n",
              "            + ' to learn more about interactive tables.';\n",
              "          element.innerHTML = '';\n",
              "          dataTable['output_type'] = 'display_data';\n",
              "          await google.colab.output.renderOutput(dataTable, element);\n",
              "          const docLink = document.createElement('div');\n",
              "          docLink.innerHTML = docLinkHtml;\n",
              "          element.appendChild(docLink);\n",
              "        }\n",
              "      </script>\n",
              "    </div>\n",
              "  </div>\n"
            ]
          },
          "metadata": {},
          "execution_count": 5
        }
      ]
    },
    {
      "cell_type": "code",
      "source": [
        "df.tail()"
      ],
      "metadata": {
        "colab": {
          "base_uri": "https://localhost:8080/",
          "height": 238
        },
        "id": "3YGM0OSp91__",
        "outputId": "43b18352-c998-4ba7-cfc3-02e6701c12d1"
      },
      "execution_count": 6,
      "outputs": [
        {
          "output_type": "execute_result",
          "data": {
            "text/plain": [
              "                  Open        High         Low       Close   Adj Close\n",
              "Date                                                                  \n",
              "2021-09-23   99.529999  104.080002   99.519997  102.959999  102.789993\n",
              "2021-09-24  102.660004  104.199997  102.599998  103.800003  103.709198\n",
              "2021-09-27  104.550003  106.330002  104.389999  105.349998  105.257835\n",
              "2021-09-28  105.290001  106.750000  104.730003  105.730003  105.637512\n",
              "2021-09-29  106.000000  107.000000  105.309998  106.279999  106.187027"
            ],
            "text/html": [
              "\n",
              "\n",
              "  <div id=\"df-8e374914-4cfc-4e79-8178-64994458feeb\">\n",
              "    <div class=\"colab-df-container\">\n",
              "      <div>\n",
              "<style scoped>\n",
              "    .dataframe tbody tr th:only-of-type {\n",
              "        vertical-align: middle;\n",
              "    }\n",
              "\n",
              "    .dataframe tbody tr th {\n",
              "        vertical-align: top;\n",
              "    }\n",
              "\n",
              "    .dataframe thead th {\n",
              "        text-align: right;\n",
              "    }\n",
              "</style>\n",
              "<table border=\"1\" class=\"dataframe\">\n",
              "  <thead>\n",
              "    <tr style=\"text-align: right;\">\n",
              "      <th></th>\n",
              "      <th>Open</th>\n",
              "      <th>High</th>\n",
              "      <th>Low</th>\n",
              "      <th>Close</th>\n",
              "      <th>Adj Close</th>\n",
              "    </tr>\n",
              "    <tr>\n",
              "      <th>Date</th>\n",
              "      <th></th>\n",
              "      <th></th>\n",
              "      <th></th>\n",
              "      <th></th>\n",
              "      <th></th>\n",
              "    </tr>\n",
              "  </thead>\n",
              "  <tbody>\n",
              "    <tr>\n",
              "      <th>2021-09-23</th>\n",
              "      <td>99.529999</td>\n",
              "      <td>104.080002</td>\n",
              "      <td>99.519997</td>\n",
              "      <td>102.959999</td>\n",
              "      <td>102.789993</td>\n",
              "    </tr>\n",
              "    <tr>\n",
              "      <th>2021-09-24</th>\n",
              "      <td>102.660004</td>\n",
              "      <td>104.199997</td>\n",
              "      <td>102.599998</td>\n",
              "      <td>103.800003</td>\n",
              "      <td>103.709198</td>\n",
              "    </tr>\n",
              "    <tr>\n",
              "      <th>2021-09-27</th>\n",
              "      <td>104.550003</td>\n",
              "      <td>106.330002</td>\n",
              "      <td>104.389999</td>\n",
              "      <td>105.349998</td>\n",
              "      <td>105.257835</td>\n",
              "    </tr>\n",
              "    <tr>\n",
              "      <th>2021-09-28</th>\n",
              "      <td>105.290001</td>\n",
              "      <td>106.750000</td>\n",
              "      <td>104.730003</td>\n",
              "      <td>105.730003</td>\n",
              "      <td>105.637512</td>\n",
              "    </tr>\n",
              "    <tr>\n",
              "      <th>2021-09-29</th>\n",
              "      <td>106.000000</td>\n",
              "      <td>107.000000</td>\n",
              "      <td>105.309998</td>\n",
              "      <td>106.279999</td>\n",
              "      <td>106.187027</td>\n",
              "    </tr>\n",
              "  </tbody>\n",
              "</table>\n",
              "</div>\n",
              "      <button class=\"colab-df-convert\" onclick=\"convertToInteractive('df-8e374914-4cfc-4e79-8178-64994458feeb')\"\n",
              "              title=\"Convert this dataframe to an interactive table.\"\n",
              "              style=\"display:none;\">\n",
              "\n",
              "  <svg xmlns=\"http://www.w3.org/2000/svg\" height=\"24px\"viewBox=\"0 0 24 24\"\n",
              "       width=\"24px\">\n",
              "    <path d=\"M0 0h24v24H0V0z\" fill=\"none\"/>\n",
              "    <path d=\"M18.56 5.44l.94 2.06.94-2.06 2.06-.94-2.06-.94-.94-2.06-.94 2.06-2.06.94zm-11 1L8.5 8.5l.94-2.06 2.06-.94-2.06-.94L8.5 2.5l-.94 2.06-2.06.94zm10 10l.94 2.06.94-2.06 2.06-.94-2.06-.94-.94-2.06-.94 2.06-2.06.94z\"/><path d=\"M17.41 7.96l-1.37-1.37c-.4-.4-.92-.59-1.43-.59-.52 0-1.04.2-1.43.59L10.3 9.45l-7.72 7.72c-.78.78-.78 2.05 0 2.83L4 21.41c.39.39.9.59 1.41.59.51 0 1.02-.2 1.41-.59l7.78-7.78 2.81-2.81c.8-.78.8-2.07 0-2.86zM5.41 20L4 18.59l7.72-7.72 1.47 1.35L5.41 20z\"/>\n",
              "  </svg>\n",
              "      </button>\n",
              "\n",
              "\n",
              "\n",
              "    <div id=\"df-af808087-e36b-423a-9d9b-2652fc08164a\">\n",
              "      <button class=\"colab-df-quickchart\" onclick=\"quickchart('df-af808087-e36b-423a-9d9b-2652fc08164a')\"\n",
              "              title=\"Suggest charts.\"\n",
              "              style=\"display:none;\">\n",
              "\n",
              "<svg xmlns=\"http://www.w3.org/2000/svg\" height=\"24px\"viewBox=\"0 0 24 24\"\n",
              "     width=\"24px\">\n",
              "    <g>\n",
              "        <path d=\"M19 3H5c-1.1 0-2 .9-2 2v14c0 1.1.9 2 2 2h14c1.1 0 2-.9 2-2V5c0-1.1-.9-2-2-2zM9 17H7v-7h2v7zm4 0h-2V7h2v10zm4 0h-2v-4h2v4z\"/>\n",
              "    </g>\n",
              "</svg>\n",
              "      </button>\n",
              "    </div>\n",
              "\n",
              "<style>\n",
              "  .colab-df-quickchart {\n",
              "    background-color: #E8F0FE;\n",
              "    border: none;\n",
              "    border-radius: 50%;\n",
              "    cursor: pointer;\n",
              "    display: none;\n",
              "    fill: #1967D2;\n",
              "    height: 32px;\n",
              "    padding: 0 0 0 0;\n",
              "    width: 32px;\n",
              "  }\n",
              "\n",
              "  .colab-df-quickchart:hover {\n",
              "    background-color: #E2EBFA;\n",
              "    box-shadow: 0px 1px 2px rgba(60, 64, 67, 0.3), 0px 1px 3px 1px rgba(60, 64, 67, 0.15);\n",
              "    fill: #174EA6;\n",
              "  }\n",
              "\n",
              "  [theme=dark] .colab-df-quickchart {\n",
              "    background-color: #3B4455;\n",
              "    fill: #D2E3FC;\n",
              "  }\n",
              "\n",
              "  [theme=dark] .colab-df-quickchart:hover {\n",
              "    background-color: #434B5C;\n",
              "    box-shadow: 0px 1px 3px 1px rgba(0, 0, 0, 0.15);\n",
              "    filter: drop-shadow(0px 1px 2px rgba(0, 0, 0, 0.3));\n",
              "    fill: #FFFFFF;\n",
              "  }\n",
              "</style>\n",
              "\n",
              "    <script>\n",
              "      async function quickchart(key) {\n",
              "        const containerElement = document.querySelector('#' + key);\n",
              "        const charts = await google.colab.kernel.invokeFunction(\n",
              "            'suggestCharts', [key], {});\n",
              "      }\n",
              "    </script>\n",
              "\n",
              "      <script>\n",
              "\n",
              "function displayQuickchartButton(domScope) {\n",
              "  let quickchartButtonEl =\n",
              "    domScope.querySelector('#df-af808087-e36b-423a-9d9b-2652fc08164a button.colab-df-quickchart');\n",
              "  quickchartButtonEl.style.display =\n",
              "    google.colab.kernel.accessAllowed ? 'block' : 'none';\n",
              "}\n",
              "\n",
              "        displayQuickchartButton(document);\n",
              "      </script>\n",
              "      <style>\n",
              "    .colab-df-container {\n",
              "      display:flex;\n",
              "      flex-wrap:wrap;\n",
              "      gap: 12px;\n",
              "    }\n",
              "\n",
              "    .colab-df-convert {\n",
              "      background-color: #E8F0FE;\n",
              "      border: none;\n",
              "      border-radius: 50%;\n",
              "      cursor: pointer;\n",
              "      display: none;\n",
              "      fill: #1967D2;\n",
              "      height: 32px;\n",
              "      padding: 0 0 0 0;\n",
              "      width: 32px;\n",
              "    }\n",
              "\n",
              "    .colab-df-convert:hover {\n",
              "      background-color: #E2EBFA;\n",
              "      box-shadow: 0px 1px 2px rgba(60, 64, 67, 0.3), 0px 1px 3px 1px rgba(60, 64, 67, 0.15);\n",
              "      fill: #174EA6;\n",
              "    }\n",
              "\n",
              "    [theme=dark] .colab-df-convert {\n",
              "      background-color: #3B4455;\n",
              "      fill: #D2E3FC;\n",
              "    }\n",
              "\n",
              "    [theme=dark] .colab-df-convert:hover {\n",
              "      background-color: #434B5C;\n",
              "      box-shadow: 0px 1px 3px 1px rgba(0, 0, 0, 0.15);\n",
              "      filter: drop-shadow(0px 1px 2px rgba(0, 0, 0, 0.3));\n",
              "      fill: #FFFFFF;\n",
              "    }\n",
              "  </style>\n",
              "\n",
              "      <script>\n",
              "        const buttonEl =\n",
              "          document.querySelector('#df-8e374914-4cfc-4e79-8178-64994458feeb button.colab-df-convert');\n",
              "        buttonEl.style.display =\n",
              "          google.colab.kernel.accessAllowed ? 'block' : 'none';\n",
              "\n",
              "        async function convertToInteractive(key) {\n",
              "          const element = document.querySelector('#df-8e374914-4cfc-4e79-8178-64994458feeb');\n",
              "          const dataTable =\n",
              "            await google.colab.kernel.invokeFunction('convertToInteractive',\n",
              "                                                     [key], {});\n",
              "          if (!dataTable) return;\n",
              "\n",
              "          const docLinkHtml = 'Like what you see? Visit the ' +\n",
              "            '<a target=\"_blank\" href=https://colab.research.google.com/notebooks/data_table.ipynb>data table notebook</a>'\n",
              "            + ' to learn more about interactive tables.';\n",
              "          element.innerHTML = '';\n",
              "          dataTable['output_type'] = 'display_data';\n",
              "          await google.colab.output.renderOutput(dataTable, element);\n",
              "          const docLink = document.createElement('div');\n",
              "          docLink.innerHTML = docLinkHtml;\n",
              "          element.appendChild(docLink);\n",
              "        }\n",
              "      </script>\n",
              "    </div>\n",
              "  </div>\n"
            ]
          },
          "metadata": {},
          "execution_count": 6
        }
      ]
    },
    {
      "cell_type": "code",
      "source": [
        "test_split=round(len(df)*0.20)\n",
        "test_split"
      ],
      "metadata": {
        "colab": {
          "base_uri": "https://localhost:8080/"
        },
        "id": "-k-Xuwv2-L4G",
        "outputId": "73682bd4-97b6-4272-d401-01482b4fc13d"
      },
      "execution_count": 8,
      "outputs": [
        {
          "output_type": "execute_result",
          "data": {
            "text/plain": [
              "1041"
            ]
          },
          "metadata": {},
          "execution_count": 8
        }
      ]
    },
    {
      "cell_type": "code",
      "source": [
        "df_for_training=df[:-1041]\n",
        "df_for_testing=df[-1041:]"
      ],
      "metadata": {
        "id": "Qh0C8BBq-0Sq"
      },
      "execution_count": 9,
      "outputs": []
    },
    {
      "cell_type": "code",
      "source": [
        "print(df_for_training.shape)\n",
        "print(df_for_testing.shape)"
      ],
      "metadata": {
        "colab": {
          "base_uri": "https://localhost:8080/"
        },
        "id": "ekugUQb6-4AH",
        "outputId": "0feffbe7-43e1-4ac0-b4b2-773630ae20b8"
      },
      "execution_count": 10,
      "outputs": [
        {
          "output_type": "stream",
          "name": "stdout",
          "text": [
            "(4162, 5)\n",
            "(1041, 5)\n"
          ]
        }
      ]
    },
    {
      "cell_type": "code",
      "source": [
        "scaler = MinMaxScaler(feature_range=(0,1))\n",
        "df_for_training_scaled = scaler.fit_transform(df_for_training)"
      ],
      "metadata": {
        "id": "duMWszYu-746"
      },
      "execution_count": 11,
      "outputs": []
    },
    {
      "cell_type": "code",
      "source": [
        "df_for_testing_scaled=scaler.transform(df_for_testing)"
      ],
      "metadata": {
        "id": "Wqb-dC6K-9uL"
      },
      "execution_count": 12,
      "outputs": []
    },
    {
      "cell_type": "code",
      "source": [
        "df_for_training_scaled"
      ],
      "metadata": {
        "colab": {
          "base_uri": "https://localhost:8080/"
        },
        "id": "y6t0SMoI_B3i",
        "outputId": "a244081d-a36f-467a-d7a9-2bbbae574465"
      },
      "execution_count": 13,
      "outputs": [
        {
          "output_type": "execute_result",
          "data": {
            "text/plain": [
              "array([[0.85398707, 0.86281807, 0.85292546, 0.8403402 , 0.82180889],\n",
              "       [0.85533406, 0.85473269, 0.82623316, 0.8122593 , 0.79289309],\n",
              "       [0.82155169, 0.84260459, 0.81422168, 0.80701755, 0.78749611],\n",
              "       ...,\n",
              "       [0.40689652, 0.40362224, 0.41960282, 0.40436458, 0.7632948 ],\n",
              "       [0.40517242, 0.39995691, 0.41832161, 0.4075738 , 0.76889077],\n",
              "       [0.40862067, 0.39974127, 0.41426436, 0.39880189, 0.75359571]])"
            ]
          },
          "metadata": {},
          "execution_count": 13
        }
      ]
    },
    {
      "cell_type": "code",
      "source": [
        "df_for_training_scaled.shape"
      ],
      "metadata": {
        "colab": {
          "base_uri": "https://localhost:8080/"
        },
        "id": "igwU9q0w_JBO",
        "outputId": "a0f53df7-fb75-4020-f5ea-676f3446658e"
      },
      "execution_count": 14,
      "outputs": [
        {
          "output_type": "execute_result",
          "data": {
            "text/plain": [
              "(4162, 5)"
            ]
          },
          "metadata": {},
          "execution_count": 14
        }
      ]
    },
    {
      "cell_type": "code",
      "source": [
        "df_for_testing_scaled.shape"
      ],
      "metadata": {
        "colab": {
          "base_uri": "https://localhost:8080/"
        },
        "id": "4TJPtec7_Mry",
        "outputId": "729ff7dd-342f-4595-d104-8a06e3db7e40"
      },
      "execution_count": 15,
      "outputs": [
        {
          "output_type": "execute_result",
          "data": {
            "text/plain": [
              "(1041, 5)"
            ]
          },
          "metadata": {},
          "execution_count": 15
        }
      ]
    },
    {
      "cell_type": "code",
      "source": [
        "def createXY(dataset,n_past):\n",
        "    dataX = []\n",
        "    dataY = []\n",
        "    for i in range(n_past, len(dataset)):\n",
        "            dataX.append(dataset[i - n_past:i, 0:dataset.shape[1]])\n",
        "            dataY.append(dataset[i,0])\n",
        "    return np.array(dataX),np.array(dataY)"
      ],
      "metadata": {
        "id": "KyKCkplO_QHa"
      },
      "execution_count": 16,
      "outputs": []
    },
    {
      "cell_type": "code",
      "source": [
        "trainX,trainY=createXY(df_for_training_scaled,30)"
      ],
      "metadata": {
        "id": "qQWXrYv-_Usm"
      },
      "execution_count": 17,
      "outputs": []
    },
    {
      "cell_type": "code",
      "source": [
        "trainX.shape"
      ],
      "metadata": {
        "colab": {
          "base_uri": "https://localhost:8080/"
        },
        "id": "8ureUVKX_Xdq",
        "outputId": "cfb4f2dd-c039-4d6e-9fc3-2dd5f25b1504"
      },
      "execution_count": 18,
      "outputs": [
        {
          "output_type": "execute_result",
          "data": {
            "text/plain": [
              "(4132, 30, 5)"
            ]
          },
          "metadata": {},
          "execution_count": 18
        }
      ]
    },
    {
      "cell_type": "code",
      "source": [
        "testX,testY=createXY(df_for_testing_scaled,30)"
      ],
      "metadata": {
        "id": "hI2ePf10_biy"
      },
      "execution_count": 19,
      "outputs": []
    },
    {
      "cell_type": "code",
      "source": [
        "trainX[0]"
      ],
      "metadata": {
        "colab": {
          "base_uri": "https://localhost:8080/"
        },
        "id": "u43fQT_Y_c9i",
        "outputId": "35fc1041-35b4-4d70-dece-a850ac65d966"
      },
      "execution_count": 20,
      "outputs": [
        {
          "output_type": "execute_result",
          "data": {
            "text/plain": [
              "array([[0.85398707, 0.86281807, 0.85292546, 0.8403402 , 0.82180889],\n",
              "       [0.85533406, 0.85473269, 0.82623316, 0.8122593 , 0.79289309],\n",
              "       [0.82155169, 0.84260459, 0.81422168, 0.80701755, 0.78749611],\n",
              "       [0.81918098, 0.84303579, 0.82319031, 0.8470261 , 0.8286929 ],\n",
              "       [0.86206895, 0.85769729, 0.84753366, 0.84124952, 0.8227448 ],\n",
              "       [0.85668106, 0.85295391, 0.85479397, 0.84659822, 0.82825271],\n",
              "       [0.85129307, 0.85661925, 0.85372629, 0.84766796, 0.82935384],\n",
              "       [0.8540948 , 0.88249248, 0.85799703, 0.88125807, 0.86394198],\n",
              "       [0.88577588, 0.88227684, 0.88255396, 0.87590928, 0.85843431],\n",
              "       [0.88189657, 0.87602422, 0.87016871, 0.86200256, 0.84411479],\n",
              "       [0.88362063, 0.88357053, 0.87892376, 0.86606763, 0.84829995],\n",
              "       [0.87047413, 0.86200956, 0.84390347, 0.8344031 , 0.81569511],\n",
              "       [0.83857758, 0.87645542, 0.84966903, 0.87398378, 0.85645156],\n",
              "       [0.88168102, 0.88012075, 0.88105913, 0.86649551, 0.84874037],\n",
              "       [0.87090514, 0.86287196, 0.85949177, 0.84724008, 0.82891342],\n",
              "       [0.85237065, 0.88249248, 0.8601324 , 0.88403941, 0.86680588],\n",
              "       [0.85668106, 0.86589053, 0.86248134, 0.8630723 , 0.84521599],\n",
              "       [0.87176726, 0.8870203 , 0.88191333, 0.87783486, 0.86041721],\n",
              "       [0.88254305, 0.89003888, 0.88298101, 0.86949083, 0.85182511],\n",
              "       [0.875     , 0.86955587, 0.85821051, 0.86521178, 0.84741896],\n",
              "       [0.85775864, 0.85877534, 0.83600253, 0.84552848, 0.82715127],\n",
              "       [0.86745685, 0.88055195, 0.86120008, 0.88403941, 0.86680588],\n",
              "       [0.87780172, 0.88033639, 0.87828313, 0.88446729, 0.86724607],\n",
              "       [0.88900862, 0.88551106, 0.84838778, 0.85237489, 0.83420073],\n",
              "       [0.83512929, 0.83872361, 0.83365367, 0.83975181, 0.82120263],\n",
              "       [0.83189656, 0.82988361, 0.82532568, 0.81108261, 0.79168158],\n",
              "       [0.81896551, 0.82341526, 0.82703399, 0.82199401, 0.80649534],\n",
              "       [0.85129307, 0.85015098, 0.84240872, 0.8292683 , 0.81401255],\n",
              "       [0.83448273, 0.84282023, 0.84561178, 0.84124952, 0.82639405],\n",
              "       [0.84913791, 0.84497632, 0.83557547, 0.83889605, 0.82396218]])"
            ]
          },
          "metadata": {},
          "execution_count": 20
        }
      ]
    },
    {
      "cell_type": "code",
      "source": [
        "print(\"trainX Shape-- \",trainX.shape)\n",
        "print(\"trainY Shape-- \",trainY.shape)"
      ],
      "metadata": {
        "colab": {
          "base_uri": "https://localhost:8080/"
        },
        "id": "5vlsBSbd_i0b",
        "outputId": "d2aefb99-640a-4143-ae57-f198b671d1b3"
      },
      "execution_count": 21,
      "outputs": [
        {
          "output_type": "stream",
          "name": "stdout",
          "text": [
            "trainX Shape--  (4132, 30, 5)\n",
            "trainY Shape--  (4132,)\n"
          ]
        }
      ]
    },
    {
      "cell_type": "code",
      "source": [
        "print(\"testX Shape-- \",testX.shape)\n",
        "print(\"testY Shape-- \",testY.shape)"
      ],
      "metadata": {
        "colab": {
          "base_uri": "https://localhost:8080/"
        },
        "id": "dIKvMJ0J_ngp",
        "outputId": "2b779420-faf4-4426-f8f1-80fc75cf328c"
      },
      "execution_count": 22,
      "outputs": [
        {
          "output_type": "stream",
          "name": "stdout",
          "text": [
            "testX Shape--  (1011, 30, 5)\n",
            "testY Shape--  (1011,)\n"
          ]
        }
      ]
    },
    {
      "cell_type": "code",
      "source": [
        "print(\"trainX[0]-- \\n\",trainX[0])\n",
        "print(\"\\ntrainY[0]-- \",trainY[0])"
      ],
      "metadata": {
        "colab": {
          "base_uri": "https://localhost:8080/"
        },
        "id": "MZ8EqZmL_q3y",
        "outputId": "a5da4812-b3d9-48b6-b3e7-63e9d63e8d4c"
      },
      "execution_count": 23,
      "outputs": [
        {
          "output_type": "stream",
          "name": "stdout",
          "text": [
            "trainX[0]-- \n",
            " [[0.85398707 0.86281807 0.85292546 0.8403402  0.82180889]\n",
            " [0.85533406 0.85473269 0.82623316 0.8122593  0.79289309]\n",
            " [0.82155169 0.84260459 0.81422168 0.80701755 0.78749611]\n",
            " [0.81918098 0.84303579 0.82319031 0.8470261  0.8286929 ]\n",
            " [0.86206895 0.85769729 0.84753366 0.84124952 0.8227448 ]\n",
            " [0.85668106 0.85295391 0.85479397 0.84659822 0.82825271]\n",
            " [0.85129307 0.85661925 0.85372629 0.84766796 0.82935384]\n",
            " [0.8540948  0.88249248 0.85799703 0.88125807 0.86394198]\n",
            " [0.88577588 0.88227684 0.88255396 0.87590928 0.85843431]\n",
            " [0.88189657 0.87602422 0.87016871 0.86200256 0.84411479]\n",
            " [0.88362063 0.88357053 0.87892376 0.86606763 0.84829995]\n",
            " [0.87047413 0.86200956 0.84390347 0.8344031  0.81569511]\n",
            " [0.83857758 0.87645542 0.84966903 0.87398378 0.85645156]\n",
            " [0.88168102 0.88012075 0.88105913 0.86649551 0.84874037]\n",
            " [0.87090514 0.86287196 0.85949177 0.84724008 0.82891342]\n",
            " [0.85237065 0.88249248 0.8601324  0.88403941 0.86680588]\n",
            " [0.85668106 0.86589053 0.86248134 0.8630723  0.84521599]\n",
            " [0.87176726 0.8870203  0.88191333 0.87783486 0.86041721]\n",
            " [0.88254305 0.89003888 0.88298101 0.86949083 0.85182511]\n",
            " [0.875      0.86955587 0.85821051 0.86521178 0.84741896]\n",
            " [0.85775864 0.85877534 0.83600253 0.84552848 0.82715127]\n",
            " [0.86745685 0.88055195 0.86120008 0.88403941 0.86680588]\n",
            " [0.87780172 0.88033639 0.87828313 0.88446729 0.86724607]\n",
            " [0.88900862 0.88551106 0.84838778 0.85237489 0.83420073]\n",
            " [0.83512929 0.83872361 0.83365367 0.83975181 0.82120263]\n",
            " [0.83189656 0.82988361 0.82532568 0.81108261 0.79168158]\n",
            " [0.81896551 0.82341526 0.82703399 0.82199401 0.80649534]\n",
            " [0.85129307 0.85015098 0.84240872 0.8292683  0.81401255]\n",
            " [0.83448273 0.84282023 0.84561178 0.84124952 0.82639405]\n",
            " [0.84913791 0.84497632 0.83557547 0.83889605 0.82396218]]\n",
            "\n",
            "trainY[0]--  0.8297413960482309\n"
          ]
        }
      ]
    },
    {
      "cell_type": "code",
      "source": [
        "trainY[0]"
      ],
      "metadata": {
        "colab": {
          "base_uri": "https://localhost:8080/"
        },
        "id": "uRPfHw-6_svC",
        "outputId": "3c47c212-da93-44a3-998d-0c50fc7b5415"
      },
      "execution_count": 24,
      "outputs": [
        {
          "output_type": "execute_result",
          "data": {
            "text/plain": [
              "0.8297413960482309"
            ]
          },
          "metadata": {},
          "execution_count": 24
        }
      ]
    },
    {
      "cell_type": "code",
      "source": [
        "trainY.shape"
      ],
      "metadata": {
        "colab": {
          "base_uri": "https://localhost:8080/"
        },
        "id": "eFHgY7rE_yK7",
        "outputId": "1a3f4afe-fc10-495c-aaa9-9d00ea566ac6"
      },
      "execution_count": 25,
      "outputs": [
        {
          "output_type": "execute_result",
          "data": {
            "text/plain": [
              "(4132,)"
            ]
          },
          "metadata": {},
          "execution_count": 25
        }
      ]
    },
    {
      "cell_type": "code",
      "source": [
        "from keras.wrappers.scikit_learn import KerasRegressor\n",
        "from sklearn.model_selection import GridSearchCV"
      ],
      "metadata": {
        "id": "OS-U-al2_4zc"
      },
      "execution_count": 26,
      "outputs": []
    },
    {
      "cell_type": "code",
      "source": [
        "def build_model(optimizer):\n",
        "    grid_model = Sequential()\n",
        "    grid_model.add(LSTM(50,return_sequences=True,input_shape=(30,5)))\n",
        "    grid_model.add(LSTM(50))\n",
        "    grid_model.add(Dropout(0.2))\n",
        "    grid_model.add(Dense(1))\n",
        "\n",
        "    grid_model.compile(loss = 'mse',optimizer = optimizer)\n",
        "    return grid_model\n",
        "\n",
        "grid_model = KerasRegressor(build_fn=build_model,verbose=1,validation_data=(testX,testY))\n",
        "parameters = {'batch_size' : [16,20],\n",
        "              'epochs' : [8,10],\n",
        "              'optimizer' : ['adam','Adadelta'] }\n",
        "\n",
        "grid_search  = GridSearchCV(estimator = grid_model,\n",
        "                            param_grid = parameters,\n",
        "                            cv = 2)"
      ],
      "metadata": {
        "colab": {
          "base_uri": "https://localhost:8080/"
        },
        "id": "R4Aefhs5_6Qy",
        "outputId": "db23e87e-3627-4ebe-9376-cc5449568a81"
      },
      "execution_count": 27,
      "outputs": [
        {
          "output_type": "stream",
          "name": "stderr",
          "text": [
            "<ipython-input-27-7afb257a83a0>:11: DeprecationWarning: KerasRegressor is deprecated, use Sci-Keras (https://github.com/adriangb/scikeras) instead. See https://www.adriangb.com/scikeras/stable/migration.html for help migrating.\n",
            "  grid_model = KerasRegressor(build_fn=build_model,verbose=1,validation_data=(testX,testY))\n"
          ]
        }
      ]
    },
    {
      "cell_type": "code",
      "source": [
        "grid_search = grid_search.fit(trainX,trainY)"
      ],
      "metadata": {
        "colab": {
          "base_uri": "https://localhost:8080/"
        },
        "id": "JF1hgPGT__xi",
        "outputId": "8a8bbb0e-7aa4-4483-8f7b-ef9c592d5f5e"
      },
      "execution_count": 28,
      "outputs": [
        {
          "output_type": "stream",
          "name": "stdout",
          "text": [
            "Epoch 1/8\n",
            "130/130 [==============================] - 11s 45ms/step - loss: 0.0042 - val_loss: 0.0021\n",
            "Epoch 2/8\n",
            "130/130 [==============================] - 5s 36ms/step - loss: 0.0012 - val_loss: 0.0031\n",
            "Epoch 3/8\n",
            "130/130 [==============================] - 6s 44ms/step - loss: 9.3038e-04 - val_loss: 0.0020\n",
            "Epoch 4/8\n",
            "130/130 [==============================] - 5s 41ms/step - loss: 9.6016e-04 - val_loss: 0.0029\n",
            "Epoch 5/8\n",
            "130/130 [==============================] - 6s 44ms/step - loss: 8.4163e-04 - val_loss: 0.0017\n",
            "Epoch 6/8\n",
            "130/130 [==============================] - 5s 35ms/step - loss: 7.7277e-04 - val_loss: 0.0011\n",
            "Epoch 7/8\n",
            "130/130 [==============================] - 5s 36ms/step - loss: 7.4485e-04 - val_loss: 0.0012\n",
            "Epoch 8/8\n",
            "130/130 [==============================] - 6s 43ms/step - loss: 7.4651e-04 - val_loss: 0.0019\n",
            "130/130 [==============================] - 1s 9ms/step - loss: 0.0094\n",
            "Epoch 1/8\n",
            "130/130 [==============================] - 10s 41ms/step - loss: 0.0083 - val_loss: 5.3717e-04\n",
            "Epoch 2/8\n",
            "130/130 [==============================] - 5s 37ms/step - loss: 0.0030 - val_loss: 3.6553e-04\n",
            "Epoch 3/8\n",
            "130/130 [==============================] - 6s 43ms/step - loss: 0.0027 - val_loss: 4.1624e-04\n",
            "Epoch 4/8\n",
            "130/130 [==============================] - 4s 34ms/step - loss: 0.0026 - val_loss: 2.2565e-04\n",
            "Epoch 5/8\n",
            "130/130 [==============================] - 5s 42ms/step - loss: 0.0023 - val_loss: 2.4744e-04\n",
            "Epoch 6/8\n",
            "130/130 [==============================] - 5s 37ms/step - loss: 0.0022 - val_loss: 2.1445e-04\n",
            "Epoch 7/8\n",
            "130/130 [==============================] - 5s 35ms/step - loss: 0.0020 - val_loss: 1.2080e-04\n",
            "Epoch 8/8\n",
            "130/130 [==============================] - 6s 43ms/step - loss: 0.0018 - val_loss: 1.1482e-04\n",
            "130/130 [==============================] - 1s 8ms/step - loss: 1.5635e-04\n",
            "Epoch 1/8\n",
            "130/130 [==============================] - 11s 53ms/step - loss: 0.0947 - val_loss: 0.0094\n",
            "Epoch 2/8\n",
            "130/130 [==============================] - 5s 40ms/step - loss: 0.0832 - val_loss: 0.0077\n",
            "Epoch 3/8\n",
            "130/130 [==============================] - 6s 50ms/step - loss: 0.0720 - val_loss: 0.0061\n",
            "Epoch 4/8\n",
            "130/130 [==============================] - 5s 40ms/step - loss: 0.0630 - val_loss: 0.0047\n",
            "Epoch 5/8\n",
            "130/130 [==============================] - 6s 45ms/step - loss: 0.0530 - val_loss: 0.0035\n",
            "Epoch 6/8\n",
            "130/130 [==============================] - 6s 43ms/step - loss: 0.0431 - val_loss: 0.0025\n",
            "Epoch 7/8\n",
            "130/130 [==============================] - 5s 39ms/step - loss: 0.0361 - val_loss: 0.0018\n",
            "Epoch 8/8\n",
            "130/130 [==============================] - 6s 48ms/step - loss: 0.0279 - val_loss: 0.0013\n",
            "130/130 [==============================] - 1s 10ms/step - loss: 0.1062\n",
            "Epoch 1/8\n",
            "130/130 [==============================] - 10s 52ms/step - loss: 0.1613 - val_loss: 0.0042\n",
            "Epoch 2/8\n",
            "130/130 [==============================] - 5s 37ms/step - loss: 0.1431 - val_loss: 0.0030\n",
            "Epoch 3/8\n",
            "130/130 [==============================] - 6s 43ms/step - loss: 0.1228 - val_loss: 0.0021\n",
            "Epoch 4/8\n",
            "130/130 [==============================] - 5s 38ms/step - loss: 0.1040 - val_loss: 0.0014\n",
            "Epoch 5/8\n",
            "130/130 [==============================] - 5s 37ms/step - loss: 0.0870 - val_loss: 9.4685e-04\n",
            "Epoch 6/8\n",
            "130/130 [==============================] - 6s 45ms/step - loss: 0.0723 - val_loss: 7.5078e-04\n",
            "Epoch 7/8\n",
            "130/130 [==============================] - 5s 37ms/step - loss: 0.0582 - val_loss: 8.3510e-04\n",
            "Epoch 8/8\n",
            "130/130 [==============================] - 6s 43ms/step - loss: 0.0463 - val_loss: 0.0012\n",
            "130/130 [==============================] - 1s 9ms/step - loss: 0.0044\n",
            "Epoch 1/10\n",
            "130/130 [==============================] - 10s 48ms/step - loss: 0.0037 - val_loss: 0.0020\n",
            "Epoch 2/10\n",
            "130/130 [==============================] - 5s 38ms/step - loss: 0.0011 - val_loss: 0.0012\n",
            "Epoch 3/10\n",
            "130/130 [==============================] - 5s 36ms/step - loss: 9.3648e-04 - val_loss: 0.0017\n",
            "Epoch 4/10\n",
            "130/130 [==============================] - 6s 44ms/step - loss: 9.2302e-04 - val_loss: 0.0013\n",
            "Epoch 5/10\n",
            "130/130 [==============================] - 5s 36ms/step - loss: 8.7923e-04 - val_loss: 0.0011\n",
            "Epoch 6/10\n",
            "130/130 [==============================] - 5s 38ms/step - loss: 7.2813e-04 - val_loss: 8.2763e-04\n",
            "Epoch 7/10\n",
            "130/130 [==============================] - 5s 40ms/step - loss: 7.1069e-04 - val_loss: 0.0011\n",
            "Epoch 8/10\n",
            "130/130 [==============================] - 5s 36ms/step - loss: 6.8478e-04 - val_loss: 5.6812e-04\n",
            "Epoch 9/10\n",
            "130/130 [==============================] - 6s 47ms/step - loss: 6.0041e-04 - val_loss: 5.6783e-04\n",
            "Epoch 10/10\n",
            "130/130 [==============================] - 5s 39ms/step - loss: 6.3288e-04 - val_loss: 7.5633e-04\n",
            "130/130 [==============================] - 1s 8ms/step - loss: 0.0064\n",
            "Epoch 1/10\n",
            "130/130 [==============================] - 12s 48ms/step - loss: 0.0159 - val_loss: 0.0011\n",
            "Epoch 2/10\n",
            "130/130 [==============================] - 5s 40ms/step - loss: 0.0031 - val_loss: 6.6084e-04\n",
            "Epoch 3/10\n",
            "130/130 [==============================] - 6s 44ms/step - loss: 0.0027 - val_loss: 4.8962e-04\n",
            "Epoch 4/10\n",
            "130/130 [==============================] - 5s 38ms/step - loss: 0.0026 - val_loss: 4.2094e-04\n",
            "Epoch 5/10\n",
            "130/130 [==============================] - 6s 47ms/step - loss: 0.0024 - val_loss: 1.5648e-04\n",
            "Epoch 6/10\n",
            "130/130 [==============================] - 5s 39ms/step - loss: 0.0023 - val_loss: 1.6544e-04\n",
            "Epoch 7/10\n",
            "130/130 [==============================] - 6s 46ms/step - loss: 0.0022 - val_loss: 1.5859e-04\n",
            "Epoch 8/10\n",
            "130/130 [==============================] - 5s 39ms/step - loss: 0.0020 - val_loss: 2.0527e-04\n",
            "Epoch 9/10\n",
            "130/130 [==============================] - 5s 40ms/step - loss: 0.0021 - val_loss: 3.0588e-04\n",
            "Epoch 10/10\n",
            "130/130 [==============================] - 6s 46ms/step - loss: 0.0018 - val_loss: 1.2108e-04\n",
            "130/130 [==============================] - 1s 9ms/step - loss: 2.4578e-04\n",
            "Epoch 1/10\n",
            "130/130 [==============================] - 10s 50ms/step - loss: 0.0692 - val_loss: 0.0064\n",
            "Epoch 2/10\n",
            "130/130 [==============================] - 5s 37ms/step - loss: 0.0590 - val_loss: 0.0049\n",
            "Epoch 3/10\n",
            "130/130 [==============================] - 5s 41ms/step - loss: 0.0505 - val_loss: 0.0036\n",
            "Epoch 4/10\n",
            "130/130 [==============================] - 5s 38ms/step - loss: 0.0418 - val_loss: 0.0025\n",
            "Epoch 5/10\n",
            "130/130 [==============================] - 5s 36ms/step - loss: 0.0338 - val_loss: 0.0016\n",
            "Epoch 6/10\n",
            "130/130 [==============================] - 6s 44ms/step - loss: 0.0265 - val_loss: 0.0011\n",
            "Epoch 7/10\n",
            "130/130 [==============================] - 5s 36ms/step - loss: 0.0196 - val_loss: 7.5458e-04\n",
            "Epoch 8/10\n",
            "130/130 [==============================] - 5s 41ms/step - loss: 0.0163 - val_loss: 6.8461e-04\n",
            "Epoch 9/10\n",
            "130/130 [==============================] - 5s 39ms/step - loss: 0.0118 - val_loss: 8.1072e-04\n",
            "Epoch 10/10\n",
            "130/130 [==============================] - 5s 36ms/step - loss: 0.0099 - val_loss: 0.0011\n",
            "130/130 [==============================] - 1s 8ms/step - loss: 0.0413\n",
            "Epoch 1/10\n",
            "130/130 [==============================] - 10s 42ms/step - loss: 0.4200 - val_loss: 0.0259\n",
            "Epoch 2/10\n",
            "130/130 [==============================] - 6s 43ms/step - loss: 0.3755 - val_loss: 0.0219\n",
            "Epoch 3/10\n",
            "130/130 [==============================] - 5s 36ms/step - loss: 0.3344 - val_loss: 0.0182\n",
            "Epoch 4/10\n",
            "130/130 [==============================] - 5s 37ms/step - loss: 0.2943 - val_loss: 0.0147\n",
            "Epoch 5/10\n",
            "130/130 [==============================] - 6s 44ms/step - loss: 0.2537 - val_loss: 0.0114\n",
            "Epoch 6/10\n",
            "130/130 [==============================] - 5s 37ms/step - loss: 0.2154 - val_loss: 0.0085\n",
            "Epoch 7/10\n",
            "130/130 [==============================] - 6s 45ms/step - loss: 0.1807 - val_loss: 0.0059\n",
            "Epoch 8/10\n",
            "130/130 [==============================] - 5s 36ms/step - loss: 0.1465 - val_loss: 0.0039\n",
            "Epoch 9/10\n",
            "130/130 [==============================] - 5s 36ms/step - loss: 0.1162 - val_loss: 0.0023\n",
            "Epoch 10/10\n",
            "130/130 [==============================] - 6s 45ms/step - loss: 0.0874 - val_loss: 0.0014\n",
            "130/130 [==============================] - 1s 9ms/step - loss: 0.0180\n",
            "Epoch 1/8\n",
            "104/104 [==============================] - 10s 60ms/step - loss: 0.0048 - val_loss: 0.0023\n",
            "Epoch 2/8\n",
            "104/104 [==============================] - 4s 39ms/step - loss: 0.0011 - val_loss: 0.0015\n",
            "Epoch 3/8\n",
            "104/104 [==============================] - 4s 38ms/step - loss: 9.9181e-04 - val_loss: 0.0016\n",
            "Epoch 4/8\n",
            "104/104 [==============================] - 5s 50ms/step - loss: 9.4732e-04 - val_loss: 0.0018\n",
            "Epoch 5/8\n",
            "104/104 [==============================] - 4s 38ms/step - loss: 8.8348e-04 - val_loss: 0.0017\n",
            "Epoch 6/8\n",
            "104/104 [==============================] - 4s 39ms/step - loss: 7.6414e-04 - val_loss: 0.0012\n",
            "Epoch 7/8\n",
            "104/104 [==============================] - 5s 51ms/step - loss: 8.3240e-04 - val_loss: 0.0014\n",
            "Epoch 8/8\n",
            "104/104 [==============================] - 4s 40ms/step - loss: 7.4490e-04 - val_loss: 0.0014\n",
            "104/104 [==============================] - 1s 13ms/step - loss: 0.0091\n",
            "Epoch 1/8\n",
            "104/104 [==============================] - 9s 44ms/step - loss: 0.0165 - val_loss: 0.0042\n",
            "Epoch 2/8\n",
            "104/104 [==============================] - 5s 45ms/step - loss: 0.0029 - val_loss: 0.0015\n",
            "Epoch 3/8\n",
            "104/104 [==============================] - 4s 37ms/step - loss: 0.0028 - val_loss: 5.7579e-04\n",
            "Epoch 4/8\n",
            "104/104 [==============================] - 4s 37ms/step - loss: 0.0029 - val_loss: 5.5228e-04\n",
            "Epoch 5/8\n",
            "104/104 [==============================] - 4s 41ms/step - loss: 0.0025 - val_loss: 3.6666e-04\n",
            "Epoch 6/8\n",
            "104/104 [==============================] - 4s 41ms/step - loss: 0.0024 - val_loss: 2.1512e-04\n",
            "Epoch 7/8\n",
            "104/104 [==============================] - 4s 35ms/step - loss: 0.0022 - val_loss: 1.7840e-04\n",
            "Epoch 8/8\n",
            "104/104 [==============================] - 4s 37ms/step - loss: 0.0022 - val_loss: 4.9968e-04\n",
            "104/104 [==============================] - 1s 9ms/step - loss: 4.9464e-04\n",
            "Epoch 1/8\n",
            "104/104 [==============================] - 10s 50ms/step - loss: 0.1142 - val_loss: 0.0121\n",
            "Epoch 2/8\n",
            "104/104 [==============================] - 5s 46ms/step - loss: 0.1044 - val_loss: 0.0102\n",
            "Epoch 3/8\n",
            "104/104 [==============================] - 5s 50ms/step - loss: 0.0923 - val_loss: 0.0084\n",
            "Epoch 4/8\n",
            "104/104 [==============================] - 4s 42ms/step - loss: 0.0804 - val_loss: 0.0068\n",
            "Epoch 5/8\n",
            "104/104 [==============================] - 5s 51ms/step - loss: 0.0698 - val_loss: 0.0053\n",
            "Epoch 6/8\n",
            "104/104 [==============================] - 5s 43ms/step - loss: 0.0592 - val_loss: 0.0041\n",
            "Epoch 7/8\n",
            "104/104 [==============================] - 4s 42ms/step - loss: 0.0489 - val_loss: 0.0030\n",
            "Epoch 8/8\n",
            "104/104 [==============================] - 6s 54ms/step - loss: 0.0415 - val_loss: 0.0022\n",
            "104/104 [==============================] - 1s 11ms/step - loss: 0.1465\n",
            "Epoch 1/8\n",
            "104/104 [==============================] - 9s 51ms/step - loss: 0.1568 - val_loss: 0.0038\n",
            "Epoch 2/8\n",
            "104/104 [==============================] - 4s 39ms/step - loss: 0.1381 - val_loss: 0.0028\n",
            "Epoch 3/8\n",
            "104/104 [==============================] - 4s 36ms/step - loss: 0.1223 - val_loss: 0.0020\n",
            "Epoch 4/8\n",
            "104/104 [==============================] - 4s 41ms/step - loss: 0.1060 - val_loss: 0.0013\n",
            "Epoch 5/8\n",
            "104/104 [==============================] - 4s 43ms/step - loss: 0.0871 - val_loss: 8.4600e-04\n",
            "Epoch 6/8\n",
            "104/104 [==============================] - 4s 37ms/step - loss: 0.0730 - val_loss: 5.9396e-04\n",
            "Epoch 7/8\n",
            "104/104 [==============================] - 4s 40ms/step - loss: 0.0591 - val_loss: 5.6016e-04\n",
            "Epoch 8/8\n",
            "104/104 [==============================] - 5s 45ms/step - loss: 0.0477 - val_loss: 7.4292e-04\n",
            "104/104 [==============================] - 1s 10ms/step - loss: 0.0042\n",
            "Epoch 1/10\n",
            "104/104 [==============================] - 10s 64ms/step - loss: 0.0065 - val_loss: 0.0051\n",
            "Epoch 2/10\n",
            "104/104 [==============================] - 5s 44ms/step - loss: 0.0012 - val_loss: 0.0045\n",
            "Epoch 3/10\n",
            "104/104 [==============================] - 5s 48ms/step - loss: 0.0011 - val_loss: 0.0041\n",
            "Epoch 4/10\n",
            "104/104 [==============================] - 5s 49ms/step - loss: 0.0010 - val_loss: 0.0031\n",
            "Epoch 5/10\n",
            "104/104 [==============================] - 5s 43ms/step - loss: 9.1053e-04 - val_loss: 0.0034\n",
            "Epoch 6/10\n",
            "104/104 [==============================] - 6s 54ms/step - loss: 8.8617e-04 - val_loss: 0.0023\n",
            "Epoch 7/10\n",
            "104/104 [==============================] - 5s 44ms/step - loss: 9.0572e-04 - val_loss: 0.0023\n",
            "Epoch 8/10\n",
            "104/104 [==============================] - 4s 43ms/step - loss: 8.6674e-04 - val_loss: 0.0021\n",
            "Epoch 9/10\n",
            "104/104 [==============================] - 6s 54ms/step - loss: 7.8134e-04 - val_loss: 9.7545e-04\n",
            "Epoch 10/10\n",
            "104/104 [==============================] - 5s 43ms/step - loss: 7.7075e-04 - val_loss: 0.0014\n",
            "104/104 [==============================] - 1s 11ms/step - loss: 0.0102\n",
            "Epoch 1/10\n",
            "104/104 [==============================] - 10s 62ms/step - loss: 0.0155 - val_loss: 9.9486e-04\n",
            "Epoch 2/10\n",
            "104/104 [==============================] - 4s 39ms/step - loss: 0.0032 - val_loss: 3.9495e-04\n",
            "Epoch 3/10\n",
            "104/104 [==============================] - 4s 41ms/step - loss: 0.0028 - val_loss: 1.6179e-04\n",
            "Epoch 4/10\n",
            "104/104 [==============================] - 5s 50ms/step - loss: 0.0028 - val_loss: 1.9285e-04\n",
            "Epoch 5/10\n",
            "104/104 [==============================] - 4s 41ms/step - loss: 0.0026 - val_loss: 1.7099e-04\n",
            "Epoch 6/10\n",
            "104/104 [==============================] - 5s 45ms/step - loss: 0.0022 - val_loss: 1.5633e-04\n",
            "Epoch 7/10\n",
            "104/104 [==============================] - 5s 45ms/step - loss: 0.0023 - val_loss: 1.4799e-04\n",
            "Epoch 8/10\n",
            "104/104 [==============================] - 4s 40ms/step - loss: 0.0022 - val_loss: 1.7562e-04\n",
            "Epoch 9/10\n",
            "104/104 [==============================] - 5s 49ms/step - loss: 0.0020 - val_loss: 2.2678e-04\n",
            "Epoch 10/10\n",
            "104/104 [==============================] - 4s 41ms/step - loss: 0.0021 - val_loss: 2.4255e-04\n",
            "104/104 [==============================] - 1s 11ms/step - loss: 1.8594e-04\n",
            "Epoch 1/10\n",
            "104/104 [==============================] - 10s 56ms/step - loss: 0.0219 - val_loss: 9.1951e-04\n",
            "Epoch 2/10\n",
            "104/104 [==============================] - 4s 36ms/step - loss: 0.0176 - val_loss: 6.2413e-04\n",
            "Epoch 3/10\n",
            "104/104 [==============================] - 4s 40ms/step - loss: 0.0137 - val_loss: 4.6878e-04\n",
            "Epoch 4/10\n",
            "104/104 [==============================] - 5s 47ms/step - loss: 0.0113 - val_loss: 4.3377e-04\n",
            "Epoch 5/10\n",
            "104/104 [==============================] - 4s 36ms/step - loss: 0.0096 - val_loss: 5.0239e-04\n",
            "Epoch 6/10\n",
            "104/104 [==============================] - 4s 42ms/step - loss: 0.0077 - val_loss: 6.4942e-04\n",
            "Epoch 7/10\n",
            "104/104 [==============================] - 6s 55ms/step - loss: 0.0068 - val_loss: 8.4892e-04\n",
            "Epoch 8/10\n",
            "104/104 [==============================] - 4s 36ms/step - loss: 0.0059 - val_loss: 0.0011\n",
            "Epoch 9/10\n",
            "104/104 [==============================] - 4s 36ms/step - loss: 0.0051 - val_loss: 0.0013\n",
            "Epoch 10/10\n",
            "104/104 [==============================] - 5s 48ms/step - loss: 0.0048 - val_loss: 0.0014\n",
            "104/104 [==============================] - 1s 9ms/step - loss: 0.0226\n",
            "Epoch 1/10\n",
            "104/104 [==============================] - 11s 61ms/step - loss: 0.4295 - val_loss: 0.0212\n",
            "Epoch 2/10\n",
            "104/104 [==============================] - 5s 44ms/step - loss: 0.4052 - val_loss: 0.0193\n",
            "Epoch 3/10\n",
            "104/104 [==============================] - 5s 43ms/step - loss: 0.3804 - val_loss: 0.0174\n",
            "Epoch 4/10\n",
            "104/104 [==============================] - 6s 54ms/step - loss: 0.3556 - val_loss: 0.0155\n",
            "Epoch 5/10\n",
            "104/104 [==============================] - 5s 44ms/step - loss: 0.3301 - val_loss: 0.0136\n",
            "Epoch 6/10\n",
            "104/104 [==============================] - 5s 49ms/step - loss: 0.3036 - val_loss: 0.0118\n",
            "Epoch 7/10\n",
            "104/104 [==============================] - 5s 47ms/step - loss: 0.2765 - val_loss: 0.0101\n",
            "Epoch 8/10\n",
            "104/104 [==============================] - 5s 44ms/step - loss: 0.2526 - val_loss: 0.0084\n",
            "Epoch 9/10\n",
            "104/104 [==============================] - 6s 54ms/step - loss: 0.2264 - val_loss: 0.0068\n",
            "Epoch 10/10\n",
            "104/104 [==============================] - 5s 44ms/step - loss: 0.1995 - val_loss: 0.0054\n",
            "104/104 [==============================] - 1s 11ms/step - loss: 0.0610\n",
            "Epoch 1/10\n",
            "259/259 [==============================] - 15s 39ms/step - loss: 0.0082 - val_loss: 2.9072e-04\n",
            "Epoch 2/10\n",
            "259/259 [==============================] - 10s 40ms/step - loss: 0.0018 - val_loss: 1.5214e-04\n",
            "Epoch 3/10\n",
            "259/259 [==============================] - 10s 40ms/step - loss: 0.0017 - val_loss: 2.6986e-04\n",
            "Epoch 4/10\n",
            "259/259 [==============================] - 10s 39ms/step - loss: 0.0015 - val_loss: 1.5741e-04\n",
            "Epoch 5/10\n",
            "259/259 [==============================] - 10s 40ms/step - loss: 0.0013 - val_loss: 1.1954e-04\n",
            "Epoch 6/10\n",
            "259/259 [==============================] - 9s 36ms/step - loss: 0.0012 - val_loss: 1.4759e-04\n",
            "Epoch 7/10\n",
            "259/259 [==============================] - 11s 41ms/step - loss: 0.0012 - val_loss: 1.1776e-04\n",
            "Epoch 8/10\n",
            "259/259 [==============================] - 10s 40ms/step - loss: 0.0011 - val_loss: 1.1823e-04\n",
            "Epoch 9/10\n",
            "259/259 [==============================] - 11s 41ms/step - loss: 9.2091e-04 - val_loss: 1.4629e-04\n",
            "Epoch 10/10\n",
            "259/259 [==============================] - 10s 37ms/step - loss: 9.6144e-04 - val_loss: 8.9440e-05\n"
          ]
        }
      ]
    },
    {
      "cell_type": "code",
      "source": [
        "grid_search.best_params_"
      ],
      "metadata": {
        "colab": {
          "base_uri": "https://localhost:8080/"
        },
        "id": "SrYGj1tqQOup",
        "outputId": "c7206b1f-76fb-453a-fae8-5dc66ba83194"
      },
      "execution_count": 29,
      "outputs": [
        {
          "output_type": "execute_result",
          "data": {
            "text/plain": [
              "{'batch_size': 16, 'epochs': 10, 'optimizer': 'adam'}"
            ]
          },
          "metadata": {},
          "execution_count": 29
        }
      ]
    },
    {
      "cell_type": "code",
      "source": [
        "my_model=grid_search.best_estimator_.model"
      ],
      "metadata": {
        "id": "VE4BIiJrWM_f"
      },
      "execution_count": 30,
      "outputs": []
    },
    {
      "cell_type": "code",
      "source": [
        "my_model"
      ],
      "metadata": {
        "colab": {
          "base_uri": "https://localhost:8080/"
        },
        "id": "uyjI6NdOWRPn",
        "outputId": "f1009cb7-5640-48ef-906f-fd41460d5052"
      },
      "execution_count": 31,
      "outputs": [
        {
          "output_type": "execute_result",
          "data": {
            "text/plain": [
              "<keras.engine.sequential.Sequential at 0x79e02d863dc0>"
            ]
          },
          "metadata": {},
          "execution_count": 31
        }
      ]
    },
    {
      "cell_type": "code",
      "source": [
        "prediction=my_model.predict(testX)"
      ],
      "metadata": {
        "colab": {
          "base_uri": "https://localhost:8080/"
        },
        "id": "3dhnzs23WU-H",
        "outputId": "bdc08015-e609-4020-ff4f-22708d9d11ce"
      },
      "execution_count": 32,
      "outputs": [
        {
          "output_type": "stream",
          "name": "stdout",
          "text": [
            "32/32 [==============================] - 2s 12ms/step\n"
          ]
        }
      ]
    },
    {
      "cell_type": "code",
      "source": [
        "print(\"prediction\\n\", prediction)\n",
        "print(\"\\nPrediction Shape-\",prediction.shape)"
      ],
      "metadata": {
        "colab": {
          "base_uri": "https://localhost:8080/"
        },
        "id": "ycAkuDElWaZL",
        "outputId": "e410ec49-406a-4d2a-e6a7-3014f8f7bbed"
      },
      "execution_count": 33,
      "outputs": [
        {
          "output_type": "stream",
          "name": "stdout",
          "text": [
            "prediction\n",
            " [[0.37163195]\n",
            " [0.37560436]\n",
            " [0.37890232]\n",
            " ...\n",
            " [0.13158812]\n",
            " [0.13472798]\n",
            " [0.13819821]]\n",
            "\n",
            "Prediction Shape- (1011, 1)\n"
          ]
        }
      ]
    },
    {
      "cell_type": "code",
      "source": [
        "prediction.shape"
      ],
      "metadata": {
        "colab": {
          "base_uri": "https://localhost:8080/"
        },
        "id": "1yvv6yLGWeo7",
        "outputId": "2ada6cb9-4bde-44c2-d7b8-535178511beb"
      },
      "execution_count": 34,
      "outputs": [
        {
          "output_type": "execute_result",
          "data": {
            "text/plain": [
              "(1011, 1)"
            ]
          },
          "metadata": {},
          "execution_count": 34
        }
      ]
    },
    {
      "cell_type": "code",
      "source": [
        "scaler.inverse_transform(prediction)"
      ],
      "metadata": {
        "id": "GRlPht5bWh0P"
      },
      "execution_count": null,
      "outputs": []
    },
    {
      "cell_type": "code",
      "source": [
        "prediction_copies_array = np.repeat(prediction,5, axis=-1)"
      ],
      "metadata": {
        "id": "IPUe0A4AWozr"
      },
      "execution_count": 36,
      "outputs": []
    },
    {
      "cell_type": "code",
      "source": [
        "prediction_copies_array.shape"
      ],
      "metadata": {
        "colab": {
          "base_uri": "https://localhost:8080/"
        },
        "id": "2spkRsWIWsSP",
        "outputId": "a9584193-0fe7-4fca-ee60-bd9eb5b572da"
      },
      "execution_count": 37,
      "outputs": [
        {
          "output_type": "execute_result",
          "data": {
            "text/plain": [
              "(1011, 5)"
            ]
          },
          "metadata": {},
          "execution_count": 37
        }
      ]
    },
    {
      "cell_type": "code",
      "source": [
        "prediction_copies_array"
      ],
      "metadata": {
        "colab": {
          "base_uri": "https://localhost:8080/"
        },
        "id": "H0OoR-ipWvBU",
        "outputId": "ea1d6276-1a71-4cd1-e0ed-890b5a1df048"
      },
      "execution_count": 38,
      "outputs": [
        {
          "output_type": "execute_result",
          "data": {
            "text/plain": [
              "array([[0.37163195, 0.37163195, 0.37163195, 0.37163195, 0.37163195],\n",
              "       [0.37560436, 0.37560436, 0.37560436, 0.37560436, 0.37560436],\n",
              "       [0.37890232, 0.37890232, 0.37890232, 0.37890232, 0.37890232],\n",
              "       ...,\n",
              "       [0.13158812, 0.13158812, 0.13158812, 0.13158812, 0.13158812],\n",
              "       [0.13472798, 0.13472798, 0.13472798, 0.13472798, 0.13472798],\n",
              "       [0.13819821, 0.13819821, 0.13819821, 0.13819821, 0.13819821]],\n",
              "      dtype=float32)"
            ]
          },
          "metadata": {},
          "execution_count": 38
        }
      ]
    },
    {
      "cell_type": "code",
      "source": [
        "pred=scaler.inverse_transform(np.reshape(prediction_copies_array,(len(prediction),5)))[:,0]"
      ],
      "metadata": {
        "id": "_mXWNKf1Wyso"
      },
      "execution_count": 39,
      "outputs": []
    },
    {
      "cell_type": "code",
      "source": [
        "pred"
      ],
      "metadata": {
        "colab": {
          "base_uri": "https://localhost:8080/"
        },
        "id": "alP2Yq9tW0Gf",
        "outputId": "c95be789-2f98-4c5a-e06e-a65fb04aca79"
      },
      "execution_count": 40,
      "outputs": [
        {
          "output_type": "execute_result",
          "data": {
            "text/plain": [
              "array([184.5671  , 185.98494 , 187.16206 , ...,  98.88991 , 100.010605,\n",
              "       101.24921 ], dtype=float32)"
            ]
          },
          "metadata": {},
          "execution_count": 40
        }
      ]
    },
    {
      "cell_type": "code",
      "source": [
        "original_copies_array = np.repeat(testY,5, axis=-1)\n",
        "\n",
        "original_copies_array.shape\n",
        "\n",
        "original=scaler.inverse_transform(np.reshape(original_copies_array,(len(testY),5)))[:,0]"
      ],
      "metadata": {
        "id": "RbnmSXjQW5TQ"
      },
      "execution_count": 41,
      "outputs": []
    },
    {
      "cell_type": "code",
      "source": [
        "pred"
      ],
      "metadata": {
        "colab": {
          "base_uri": "https://localhost:8080/"
        },
        "id": "bqSPceGaW644",
        "outputId": "3f049776-20c2-4e22-c9f8-60f7987a42e7"
      },
      "execution_count": 42,
      "outputs": [
        {
          "output_type": "execute_result",
          "data": {
            "text/plain": [
              "array([184.5671  , 185.98494 , 187.16206 , ...,  98.88991 , 100.010605,\n",
              "       101.24921 ], dtype=float32)"
            ]
          },
          "metadata": {},
          "execution_count": 42
        }
      ]
    },
    {
      "cell_type": "code",
      "source": [
        "print(\"Pred Values-- \" ,pred)\n",
        "print(\"\\nOriginal Values-- \",original)"
      ],
      "metadata": {
        "colab": {
          "base_uri": "https://localhost:8080/"
        },
        "id": "Uqgn8cM7W_Vb",
        "outputId": "72e493c6-6ee3-42bb-a96e-108cdfb96123"
      },
      "execution_count": 43,
      "outputs": [
        {
          "output_type": "stream",
          "name": "stdout",
          "text": [
            "Pred Values--  [184.5671   185.98494  187.16206  ...  98.88991  100.010605 101.24921 ]\n",
            "\n",
            "Original Values--  [191.692307 193.461533 192.307693 ... 104.550003 105.290001 106.      ]\n"
          ]
        }
      ]
    },
    {
      "cell_type": "code",
      "source": [
        "import matplotlib.pyplot as plt"
      ],
      "metadata": {
        "id": "05KvdG1_XCjI"
      },
      "execution_count": 44,
      "outputs": []
    },
    {
      "cell_type": "code",
      "source": [
        "plt.plot(original, color = 'red', label = 'Real  Stock Price')\n",
        "plt.plot(pred, color = 'blue', label = 'Predicted  Stock Price')\n",
        "plt.title(' Stock Price Prediction')\n",
        "plt.xlabel('Time')\n",
        "plt.ylabel(' Stock Price')\n",
        "plt.legend()\n",
        "plt.show()"
      ],
      "metadata": {
        "colab": {
          "base_uri": "https://localhost:8080/",
          "height": 472
        },
        "id": "nzBrzen_XFP0",
        "outputId": "fc0246af-2d78-4646-99d7-29ef43211a3d"
      },
      "execution_count": 45,
      "outputs": [
        {
          "output_type": "display_data",
          "data": {
            "text/plain": [
              "<Figure size 640x480 with 1 Axes>"
            ],
            "image/png": "[encoded data removed]"
          },
          "metadata": {}
        }
      ]
    },
    {
      "cell_type": "code",
      "source": [
        "df_30_days_past=df.iloc[-30:,:]"
      ],
      "metadata": {
        "id": "vnaIW9zpXIus"
      },
      "execution_count": 46,
      "outputs": []
    },
    {
      "cell_type": "code",
      "source": [
        "df_30_days_past"
      ],
      "metadata": {
        "colab": {
          "base_uri": "https://localhost:8080/",
          "height": 1000
        },
        "id": "1sWEwIL4XL2I",
        "outputId": "9b39a297-a7a4-4ca4-ff93-6fd1c56dc8af"
      },
      "execution_count": 47,
      "outputs": [
        {
          "output_type": "execute_result",
          "data": {
            "text/plain": [
              "                  Open        High         Low       Close   Adj Close\n",
              "Date                                                                  \n",
              "2021-08-18  101.080002  103.470001  100.760002  101.410004  101.242561\n",
              "2021-08-19  100.000000  100.820000   98.599998   99.419998   99.255844\n",
              "2021-08-20   99.589996  100.669998   99.099998  100.050003   99.884804\n",
              "2021-08-23  100.599998  101.480003  100.269997  100.970001  100.803284\n",
              "2021-08-24  101.290001  103.510002  101.059998  103.269997  103.099487\n",
              "2021-08-25  103.360001  105.129997  102.550003  104.699997  104.527122\n",
              "2021-08-26  104.459999  104.620003  102.839996  103.379997  103.209305\n",
              "2021-08-27  103.900002  106.150002  103.900002  106.089996  105.914825\n",
              "2021-08-30  106.330002  106.459999  104.800003  105.190002  105.016312\n",
              "2021-08-31  104.940002  106.360001  104.459999  105.410004  105.235954\n",
              "2021-09-01  105.360001  105.470001  103.260002  103.660004  103.488846\n",
              "2021-09-02  104.000000  106.339996  103.980003  106.260002  106.084557\n",
              "2021-09-03  106.000000  107.360001  104.080002  104.750000  104.577042\n",
              "2021-09-07  104.500000  104.940002  102.309998  103.290001  103.119453\n",
              "2021-09-08  102.949997  104.730003  100.419998  102.580002  102.410629\n",
              "2021-09-09  102.360001  104.919998  102.110001  103.290001  103.119453\n",
              "2021-09-10  103.290001  103.949997  101.779999  102.000000  101.831581\n",
              "2021-09-13  102.650002  104.860001  102.019997  104.459999  104.287521\n",
              "2021-09-14  104.540001  104.550003  100.070000  100.379997  100.214256\n",
              "2021-09-15  100.790001  102.470001  100.690002  102.160004  101.991325\n",
              "2021-09-16  102.389999  102.699997  100.820000  101.339996  101.172668\n",
              "2021-09-17  101.150002  101.860001  100.129997  100.470001  100.304115\n",
              "2021-09-20   98.500000   99.870003   97.269997   99.809998   99.645195\n",
              "2021-09-21   99.900002   99.989998   96.209999   96.820000   96.660133\n",
              "2021-09-22   97.669998   99.029999   97.660004   98.540001   98.377296\n",
              "2021-09-23   99.529999  104.080002   99.519997  102.959999  102.789993\n",
              "2021-09-24  102.660004  104.199997  102.599998  103.800003  103.709198\n",
              "2021-09-27  104.550003  106.330002  104.389999  105.349998  105.257835\n",
              "2021-09-28  105.290001  106.750000  104.730003  105.730003  105.637512\n",
              "2021-09-29  106.000000  107.000000  105.309998  106.279999  106.187027"
            ],
            "text/html": [
              "\n",
              "\n",
              "  <div id=\"df-5880e825-7c8c-405f-b245-ace64958d9e9\">\n",
              "    <div class=\"colab-df-container\">\n",
              "      <div>\n",
              "<style scoped>\n",
              "    .dataframe tbody tr th:only-of-type {\n",
              "        vertical-align: middle;\n",
              "    }\n",
              "\n",
              "    .dataframe tbody tr th {\n",
              "        vertical-align: top;\n",
              "    }\n",
              "\n",
              "    .dataframe thead th {\n",
              "        text-align: right;\n",
              "    }\n",
              "</style>\n",
              "<table border=\"1\" class=\"dataframe\">\n",
              "  <thead>\n",
              "    <tr style=\"text-align: right;\">\n",
              "      <th></th>\n",
              "      <th>Open</th>\n",
              "      <th>High</th>\n",
              "      <th>Low</th>\n",
              "      <th>Close</th>\n",
              "      <th>Adj Close</th>\n",
              "    </tr>\n",
              "    <tr>\n",
              "      <th>Date</th>\n",
              "      <th></th>\n",
              "      <th></th>\n",
              "      <th></th>\n",
              "      <th></th>\n",
              "      <th></th>\n",
              "    </tr>\n",
              "  </thead>\n",
              "  <tbody>\n",
              "    <tr>\n",
              "      <th>2021-08-18</th>\n",
              "      <td>101.080002</td>\n",
              "      <td>103.470001</td>\n",
              "      <td>100.760002</td>\n",
              "      <td>101.410004</td>\n",
              "      <td>101.242561</td>\n",
              "    </tr>\n",
              "    <tr>\n",
              "      <th>2021-08-19</th>\n",
              "      <td>100.000000</td>\n",
              "      <td>100.820000</td>\n",
              "      <td>98.599998</td>\n",
              "      <td>99.419998</td>\n",
              "      <td>99.255844</td>\n",
              "    </tr>\n",
              "    <tr>\n",
              "      <th>2021-08-20</th>\n",
              "      <td>99.589996</td>\n",
              "      <td>100.669998</td>\n",
              "      <td>99.099998</td>\n",
              "      <td>100.050003</td>\n",
              "      <td>99.884804</td>\n",
              "    </tr>\n",
              "    <tr>\n",
              "      <th>2021-08-23</th>\n",
              "      <td>100.599998</td>\n",
              "      <td>101.480003</td>\n",
              "      <td>100.269997</td>\n",
              "      <td>100.970001</td>\n",
              "      <td>100.803284</td>\n",
              "    </tr>\n",
              "    <tr>\n",
              "      <th>2021-08-24</th>\n",
              "      <td>101.290001</td>\n",
              "      <td>103.510002</td>\n",
              "      <td>101.059998</td>\n",
              "      <td>103.269997</td>\n",
              "      <td>103.099487</td>\n",
              "    </tr>\n",
              "    <tr>\n",
              "      <th>2021-08-25</th>\n",
              "      <td>103.360001</td>\n",
              "      <td>105.129997</td>\n",
              "      <td>102.550003</td>\n",
              "      <td>104.699997</td>\n",
              "      <td>104.527122</td>\n",
              "    </tr>\n",
              "    <tr>\n",
              "      <th>2021-08-26</th>\n",
              "      <td>104.459999</td>\n",
              "      <td>104.620003</td>\n",
              "      <td>102.839996</td>\n",
              "      <td>103.379997</td>\n",
              "      <td>103.209305</td>\n",
              "    </tr>\n",
              "    <tr>\n",
              "      <th>2021-08-27</th>\n",
              "      <td>103.900002</td>\n",
              "      <td>106.150002</td>\n",
              "      <td>103.900002</td>\n",
              "      <td>106.089996</td>\n",
              "      <td>105.914825</td>\n",
              "    </tr>\n",
              "    <tr>\n",
              "      <th>2021-08-30</th>\n",
              "      <td>106.330002</td>\n",
              "      <td>106.459999</td>\n",
              "      <td>104.800003</td>\n",
              "      <td>105.190002</td>\n",
              "      <td>105.016312</td>\n",
              "    </tr>\n",
              "    <tr>\n",
              "      <th>2021-08-31</th>\n",
              "      <td>104.940002</td>\n",
              "      <td>106.360001</td>\n",
              "      <td>104.459999</td>\n",
              "      <td>105.410004</td>\n",
              "      <td>105.235954</td>\n",
              "    </tr>\n",
              "    <tr>\n",
              "      <th>2021-09-01</th>\n",
              "      <td>105.360001</td>\n",
              "      <td>105.470001</td>\n",
              "      <td>103.260002</td>\n",
              "      <td>103.660004</td>\n",
              "      <td>103.488846</td>\n",
              "    </tr>\n",
              "    <tr>\n",
              "      <th>2021-09-02</th>\n",
              "      <td>104.000000</td>\n",
              "      <td>106.339996</td>\n",
              "      <td>103.980003</td>\n",
              "      <td>106.260002</td>\n",
              "      <td>106.084557</td>\n",
              "    </tr>\n",
              "    <tr>\n",
              "      <th>2021-09-03</th>\n",
              "      <td>106.000000</td>\n",
              "      <td>107.360001</td>\n",
              "      <td>104.080002</td>\n",
              "      <td>104.750000</td>\n",
              "      <td>104.577042</td>\n",
              "    </tr>\n",
              "    <tr>\n",
              "      <th>2021-09-07</th>\n",
              "      <td>104.500000</td>\n",
              "      <td>104.940002</td>\n",
              "      <td>102.309998</td>\n",
              "      <td>103.290001</td>\n",
              "      <td>103.119453</td>\n",
              "    </tr>\n",
              "    <tr>\n",
              "      <th>2021-09-08</th>\n",
              "      <td>102.949997</td>\n",
              "      <td>104.730003</td>\n",
              "      <td>100.419998</td>\n",
              "      <td>102.580002</td>\n",
              "      <td>102.410629</td>\n",
              "    </tr>\n",
              "    <tr>\n",
              "      <th>2021-09-09</th>\n",
              "      <td>102.360001</td>\n",
              "      <td>104.919998</td>\n",
              "      <td>102.110001</td>\n",
              "      <td>103.290001</td>\n",
              "      <td>103.119453</td>\n",
              "    </tr>\n",
              "    <tr>\n",
              "      <th>2021-09-10</th>\n",
              "      <td>103.290001</td>\n",
              "      <td>103.949997</td>\n",
              "      <td>101.779999</td>\n",
              "      <td>102.000000</td>\n",
              "      <td>101.831581</td>\n",
              "    </tr>\n",
              "    <tr>\n",
              "      <th>2021-09-13</th>\n",
              "      <td>102.650002</td>\n",
              "      <td>104.860001</td>\n",
              "      <td>102.019997</td>\n",
              "      <td>104.459999</td>\n",
              "      <td>104.287521</td>\n",
              "    </tr>\n",
              "    <tr>\n",
              "      <th>2021-09-14</th>\n",
              "      <td>104.540001</td>\n",
              "      <td>104.550003</td>\n",
              "      <td>100.070000</td>\n",
              "      <td>100.379997</td>\n",
              "      <td>100.214256</td>\n",
              "    </tr>\n",
              "    <tr>\n",
              "      <th>2021-09-15</th>\n",
              "      <td>100.790001</td>\n",
              "      <td>102.470001</td>\n",
              "      <td>100.690002</td>\n",
              "      <td>102.160004</td>\n",
              "      <td>101.991325</td>\n",
              "    </tr>\n",
              "    <tr>\n",
              "      <th>2021-09-16</th>\n",
              "      <td>102.389999</td>\n",
              "      <td>102.699997</td>\n",
              "      <td>100.820000</td>\n",
              "      <td>101.339996</td>\n",
              "      <td>101.172668</td>\n",
              "    </tr>\n",
              "    <tr>\n",
              "      <th>2021-09-17</th>\n",
              "      <td>101.150002</td>\n",
              "      <td>101.860001</td>\n",
              "      <td>100.129997</td>\n",
              "      <td>100.470001</td>\n",
              "      <td>100.304115</td>\n",
              "    </tr>\n",
              "    <tr>\n",
              "      <th>2021-09-20</th>\n",
              "      <td>98.500000</td>\n",
              "      <td>99.870003</td>\n",
              "      <td>97.269997</td>\n",
              "      <td>99.809998</td>\n",
              "      <td>99.645195</td>\n",
              "    </tr>\n",
              "    <tr>\n",
              "      <th>2021-09-21</th>\n",
              "      <td>99.900002</td>\n",
              "      <td>99.989998</td>\n",
              "      <td>96.209999</td>\n",
              "      <td>96.820000</td>\n",
              "      <td>96.660133</td>\n",
              "    </tr>\n",
              "    <tr>\n",
              "      <th>2021-09-22</th>\n",
              "      <td>97.669998</td>\n",
              "      <td>99.029999</td>\n",
              "      <td>97.660004</td>\n",
              "      <td>98.540001</td>\n",
              "      <td>98.377296</td>\n",
              "    </tr>\n",
              "    <tr>\n",
              "      <th>2021-09-23</th>\n",
              "      <td>99.529999</td>\n",
              "      <td>104.080002</td>\n",
              "      <td>99.519997</td>\n",
              "      <td>102.959999</td>\n",
              "      <td>102.789993</td>\n",
              "    </tr>\n",
              "    <tr>\n",
              "      <th>2021-09-24</th>\n",
              "      <td>102.660004</td>\n",
              "      <td>104.199997</td>\n",
              "      <td>102.599998</td>\n",
              "      <td>103.800003</td>\n",
              "      <td>103.709198</td>\n",
              "    </tr>\n",
              "    <tr>\n",
              "      <th>2021-09-27</th>\n",
              "      <td>104.550003</td>\n",
              "      <td>106.330002</td>\n",
              "      <td>104.389999</td>\n",
              "      <td>105.349998</td>\n",
              "      <td>105.257835</td>\n",
              "    </tr>\n",
              "    <tr>\n",
              "      <th>2021-09-28</th>\n",
              "      <td>105.290001</td>\n",
              "      <td>106.750000</td>\n",
              "      <td>104.730003</td>\n",
              "      <td>105.730003</td>\n",
              "      <td>105.637512</td>\n",
              "    </tr>\n",
              "    <tr>\n",
              "      <th>2021-09-29</th>\n",
              "      <td>106.000000</td>\n",
              "      <td>107.000000</td>\n",
              "      <td>105.309998</td>\n",
              "      <td>106.279999</td>\n",
              "      <td>106.187027</td>\n",
              "    </tr>\n",
              "  </tbody>\n",
              "</table>\n",
              "</div>\n",
              "      <button class=\"colab-df-convert\" onclick=\"convertToInteractive('df-5880e825-7c8c-405f-b245-ace64958d9e9')\"\n",
              "              title=\"Convert this dataframe to an interactive table.\"\n",
              "              style=\"display:none;\">\n",
              "\n",
              "  <svg xmlns=\"http://www.w3.org/2000/svg\" height=\"24px\"viewBox=\"0 0 24 24\"\n",
              "       width=\"24px\">\n",
              "    <path d=\"M0 0h24v24H0V0z\" fill=\"none\"/>\n",
              "    <path d=\"M18.56 5.44l.94 2.06.94-2.06 2.06-.94-2.06-.94-.94-2.06-.94 2.06-2.06.94zm-11 1L8.5 8.5l.94-2.06 2.06-.94-2.06-.94L8.5 2.5l-.94 2.06-2.06.94zm10 10l.94 2.06.94-2.06 2.06-.94-2.06-.94-.94-2.06-.94 2.06-2.06.94z\"/><path d=\"M17.41 7.96l-1.37-1.37c-.4-.4-.92-.59-1.43-.59-.52 0-1.04.2-1.43.59L10.3 9.45l-7.72 7.72c-.78.78-.78 2.05 0 2.83L4 21.41c.39.39.9.59 1.41.59.51 0 1.02-.2 1.41-.59l7.78-7.78 2.81-2.81c.8-.78.8-2.07 0-2.86zM5.41 20L4 18.59l7.72-7.72 1.47 1.35L5.41 20z\"/>\n",
              "  </svg>\n",
              "      </button>\n",
              "\n",
              "\n",
              "\n",
              "    <div id=\"df-d176dc87-866c-4a92-87dd-eea0adb237d5\">\n",
              "      <button class=\"colab-df-quickchart\" onclick=\"quickchart('df-d176dc87-866c-4a92-87dd-eea0adb237d5')\"\n",
              "              title=\"Suggest charts.\"\n",
              "              style=\"display:none;\">\n",
              "\n",
              "<svg xmlns=\"http://www.w3.org/2000/svg\" height=\"24px\"viewBox=\"0 0 24 24\"\n",
              "     width=\"24px\">\n",
              "    <g>\n",
              "        <path d=\"M19 3H5c-1.1 0-2 .9-2 2v14c0 1.1.9 2 2 2h14c1.1 0 2-.9 2-2V5c0-1.1-.9-2-2-2zM9 17H7v-7h2v7zm4 0h-2V7h2v10zm4 0h-2v-4h2v4z\"/>\n",
              "    </g>\n",
              "</svg>\n",
              "      </button>\n",
              "    </div>\n",
              "\n",
              "<style>\n",
              "  .colab-df-quickchart {\n",
              "    background-color: #E8F0FE;\n",
              "    border: none;\n",
              "    border-radius: 50%;\n",
              "    cursor: pointer;\n",
              "    display: none;\n",
              "    fill: #1967D2;\n",
              "    height: 32px;\n",
              "    padding: 0 0 0 0;\n",
              "    width: 32px;\n",
              "  }\n",
              "\n",
              "  .colab-df-quickchart:hover {\n",
              "    background-color: #E2EBFA;\n",
              "    box-shadow: 0px 1px 2px rgba(60, 64, 67, 0.3), 0px 1px 3px 1px rgba(60, 64, 67, 0.15);\n",
              "    fill: #174EA6;\n",
              "  }\n",
              "\n",
              "  [theme=dark] .colab-df-quickchart {\n",
              "    background-color: #3B4455;\n",
              "    fill: #D2E3FC;\n",
              "  }\n",
              "\n",
              "  [theme=dark] .colab-df-quickchart:hover {\n",
              "    background-color: #434B5C;\n",
              "    box-shadow: 0px 1px 3px 1px rgba(0, 0, 0, 0.15);\n",
              "    filter: drop-shadow(0px 1px 2px rgba(0, 0, 0, 0.3));\n",
              "    fill: #FFFFFF;\n",
              "  }\n",
              "</style>\n",
              "\n",
              "    <script>\n",
              "      async function quickchart(key) {\n",
              "        const containerElement = document.querySelector('#' + key);\n",
              "        const charts = await google.colab.kernel.invokeFunction(\n",
              "            'suggestCharts', [key], {});\n",
              "      }\n",
              "    </script>\n",
              "\n",
              "      <script>\n",
              "\n",
              "function displayQuickchartButton(domScope) {\n",
              "  let quickchartButtonEl =\n",
              "    domScope.querySelector('#df-d176dc87-866c-4a92-87dd-eea0adb237d5 button.colab-df-quickchart');\n",
              "  quickchartButtonEl.style.display =\n",
              "    google.colab.kernel.accessAllowed ? 'block' : 'none';\n",
              "}\n",
              "\n",
              "        displayQuickchartButton(document);\n",
              "      </script>\n",
              "      <style>\n",
              "    .colab-df-container {\n",
              "      display:flex;\n",
              "      flex-wrap:wrap;\n",
              "      gap: 12px;\n",
              "    }\n",
              "\n",
              "    .colab-df-convert {\n",
              "      background-color: #E8F0FE;\n",
              "      border: none;\n",
              "      border-radius: 50%;\n",
              "      cursor: pointer;\n",
              "      display: none;\n",
              "      fill: #1967D2;\n",
              "      height: 32px;\n",
              "      padding: 0 0 0 0;\n",
              "      width: 32px;\n",
              "    }\n",
              "\n",
              "    .colab-df-convert:hover {\n",
              "      background-color: #E2EBFA;\n",
              "      box-shadow: 0px 1px 2px rgba(60, 64, 67, 0.3), 0px 1px 3px 1px rgba(60, 64, 67, 0.15);\n",
              "      fill: #174EA6;\n",
              "    }\n",
              "\n",
              "    [theme=dark] .colab-df-convert {\n",
              "      background-color: #3B4455;\n",
              "      fill: #D2E3FC;\n",
              "    }\n",
              "\n",
              "    [theme=dark] .colab-df-convert:hover {\n",
              "      background-color: #434B5C;\n",
              "      box-shadow: 0px 1px 3px 1px rgba(0, 0, 0, 0.15);\n",
              "      filter: drop-shadow(0px 1px 2px rgba(0, 0, 0, 0.3));\n",
              "      fill: #FFFFFF;\n",
              "    }\n",
              "  </style>\n",
              "\n",
              "      <script>\n",
              "        const buttonEl =\n",
              "          document.querySelector('#df-5880e825-7c8c-405f-b245-ace64958d9e9 button.colab-df-convert');\n",
              "        buttonEl.style.display =\n",
              "          google.colab.kernel.accessAllowed ? 'block' : 'none';\n",
              "\n",
              "        async function convertToInteractive(key) {\n",
              "          const element = document.querySelector('#df-5880e825-7c8c-405f-b245-ace64958d9e9');\n",
              "          const dataTable =\n",
              "            await google.colab.kernel.invokeFunction('convertToInteractive',\n",
              "                                                     [key], {});\n",
              "          if (!dataTable) return;\n",
              "\n",
              "          const docLinkHtml = 'Like what you see? Visit the ' +\n",
              "            '<a target=\"_blank\" href=https://colab.research.google.com/notebooks/data_table.ipynb>data table notebook</a>'\n",
              "            + ' to learn more about interactive tables.';\n",
              "          element.innerHTML = '';\n",
              "          dataTable['output_type'] = 'display_data';\n",
              "          await google.colab.output.renderOutput(dataTable, element);\n",
              "          const docLink = document.createElement('div');\n",
              "          docLink.innerHTML = docLinkHtml;\n",
              "          element.appendChild(docLink);\n",
              "        }\n",
              "      </script>\n",
              "    </div>\n",
              "  </div>\n"
            ]
          },
          "metadata": {},
          "execution_count": 47
        }
      ]
    },
    {
      "cell_type": "code",
      "source": [
        "df_30_days_future=pd.read_csv(\"test.csv\",parse_dates=[\"Date\"],index_col=[0])\n",
        "df_30_days_future.shape"
      ],
      "metadata": {
        "colab": {
          "base_uri": "https://localhost:8080/"
        },
        "id": "t4lihVvmXQOv",
        "outputId": "e317497c-e82d-49e4-c158-29c63f458e6a"
      },
      "execution_count": 48,
      "outputs": [
        {
          "output_type": "execute_result",
          "data": {
            "text/plain": [
              "(30, 4)"
            ]
          },
          "metadata": {},
          "execution_count": 48
        }
      ]
    },
    {
      "cell_type": "code",
      "source": [
        "df_30_days_future"
      ],
      "metadata": {
        "colab": {
          "base_uri": "https://localhost:8080/",
          "height": 1000
        },
        "id": "9dOP0jKDXTq9",
        "outputId": "74884ea2-98f4-4228-883c-8fd83cb6c27c"
      },
      "execution_count": 49,
      "outputs": [
        {
          "output_type": "execute_result",
          "data": {
            "text/plain": [
              "                  High         Low       Close   Adj Close\n",
              "Date                                                      \n",
              "2021-09-30  107.089996  102.949997  103.029999  102.939865\n",
              "2021-10-01  106.389999  103.669998  105.820000  105.727425\n",
              "2021-10-04  107.080002  104.599998  104.900002  104.808235\n",
              "2021-10-05  106.000000  103.750000  104.900002  104.808235\n",
              "2021-10-06  104.419998  102.059998  104.330002  104.238731\n",
              "2021-10-07  106.529999  104.330002  105.510002  105.417702\n",
              "2021-10-08  106.220001  104.660004  104.720001  104.628387\n",
              "2021-10-11  105.760002  103.970001  104.080002  103.988953\n",
              "2021-10-12  104.040001  101.559998  102.720001  102.630142\n",
              "2021-10-13  103.199997  101.180000  102.360001  102.270454\n",
              "2021-10-14  103.650002  102.370003  102.739998  102.650116\n",
              "2021-10-15  105.900002  103.190002  104.410004  104.318665\n",
              "2021-10-18  104.570000  103.040001  104.120003  104.028915\n",
              "2021-10-19  104.970001  103.580002  104.730003  104.638382\n",
              "2021-10-20  106.019997  103.870003  106.000000  105.907272\n",
              "2021-10-21  106.389999  103.010002  103.150002  103.059761\n",
              "2021-10-22  104.510002  102.550003  104.050003  103.958977\n",
              "2021-10-25  105.989998  103.330002  105.300003  105.207886\n",
              "2021-10-26  110.970001  105.220001  107.440002  107.346008\n",
              "2021-10-27  108.279999  103.690002  103.849998  103.759148\n",
              "2021-10-28  105.379997  103.099998  105.260002  105.167915\n",
              "2021-10-29  105.239998  104.120003  104.870003  104.778259\n",
              "2021-11-01  106.769997  105.279999  106.230003  106.137070\n",
              "2021-11-02  107.139999  105.300003  106.690002  106.596664\n",
              "2021-11-03  106.339996  104.820000  105.970001  105.877296\n",
              "2021-11-04  106.400002  104.290001  105.209999  105.117958\n",
              "2021-11-05  109.650002  106.849998  108.739998  108.644867\n",
              "2021-11-08  110.309998  108.320000  108.419998  108.325150\n",
              "2021-11-09  116.169998  110.480003  111.290001  111.192642\n",
              "2021-11-10  112.680000  108.110001  108.959999  108.864677"
            ],
            "text/html": [
              "\n",
              "\n",
              "  <div id=\"df-3135a442-c035-4aa2-96ab-3458d2684bb1\">\n",
              "    <div class=\"colab-df-container\">\n",
              "      <div>\n",
              "<style scoped>\n",
              "    .dataframe tbody tr th:only-of-type {\n",
              "        vertical-align: middle;\n",
              "    }\n",
              "\n",
              "    .dataframe tbody tr th {\n",
              "        vertical-align: top;\n",
              "    }\n",
              "\n",
              "    .dataframe thead th {\n",
              "        text-align: right;\n",
              "    }\n",
              "</style>\n",
              "<table border=\"1\" class=\"dataframe\">\n",
              "  <thead>\n",
              "    <tr style=\"text-align: right;\">\n",
              "      <th></th>\n",
              "      <th>High</th>\n",
              "      <th>Low</th>\n",
              "      <th>Close</th>\n",
              "      <th>Adj Close</th>\n",
              "    </tr>\n",
              "    <tr>\n",
              "      <th>Date</th>\n",
              "      <th></th>\n",
              "      <th></th>\n",
              "      <th></th>\n",
              "      <th></th>\n",
              "    </tr>\n",
              "  </thead>\n",
              "  <tbody>\n",
              "    <tr>\n",
              "      <th>2021-09-30</th>\n",
              "      <td>107.089996</td>\n",
              "      <td>102.949997</td>\n",
              "      <td>103.029999</td>\n",
              "      <td>102.939865</td>\n",
              "    </tr>\n",
              "    <tr>\n",
              "      <th>2021-10-01</th>\n",
              "      <td>106.389999</td>\n",
              "      <td>103.669998</td>\n",
              "      <td>105.820000</td>\n",
              "      <td>105.727425</td>\n",
              "    </tr>\n",
              "    <tr>\n",
              "      <th>2021-10-04</th>\n",
              "      <td>107.080002</td>\n",
              "      <td>104.599998</td>\n",
              "      <td>104.900002</td>\n",
              "      <td>104.808235</td>\n",
              "    </tr>\n",
              "    <tr>\n",
              "      <th>2021-10-05</th>\n",
              "      <td>106.000000</td>\n",
              "      <td>103.750000</td>\n",
              "      <td>104.900002</td>\n",
              "      <td>104.808235</td>\n",
              "    </tr>\n",
              "    <tr>\n",
              "      <th>2021-10-06</th>\n",
              "      <td>104.419998</td>\n",
              "      <td>102.059998</td>\n",
              "      <td>104.330002</td>\n",
              "      <td>104.238731</td>\n",
              "    </tr>\n",
              "    <tr>\n",
              "      <th>2021-10-07</th>\n",
              "      <td>106.529999</td>\n",
              "      <td>104.330002</td>\n",
              "      <td>105.510002</td>\n",
              "      <td>105.417702</td>\n",
              "    </tr>\n",
              "    <tr>\n",
              "      <th>2021-10-08</th>\n",
              "      <td>106.220001</td>\n",
              "      <td>104.660004</td>\n",
              "      <td>104.720001</td>\n",
              "      <td>104.628387</td>\n",
              "    </tr>\n",
              "    <tr>\n",
              "      <th>2021-10-11</th>\n",
              "      <td>105.760002</td>\n",
              "      <td>103.970001</td>\n",
              "      <td>104.080002</td>\n",
              "      <td>103.988953</td>\n",
              "    </tr>\n",
              "    <tr>\n",
              "      <th>2021-10-12</th>\n",
              "      <td>104.040001</td>\n",
              "      <td>101.559998</td>\n",
              "      <td>102.720001</td>\n",
              "      <td>102.630142</td>\n",
              "    </tr>\n",
              "    <tr>\n",
              "      <th>2021-10-13</th>\n",
              "      <td>103.199997</td>\n",
              "      <td>101.180000</td>\n",
              "      <td>102.360001</td>\n",
              "      <td>102.270454</td>\n",
              "    </tr>\n",
              "    <tr>\n",
              "      <th>2021-10-14</th>\n",
              "      <td>103.650002</td>\n",
              "      <td>102.370003</td>\n",
              "      <td>102.739998</td>\n",
              "      <td>102.650116</td>\n",
              "    </tr>\n",
              "    <tr>\n",
              "      <th>2021-10-15</th>\n",
              "      <td>105.900002</td>\n",
              "      <td>103.190002</td>\n",
              "      <td>104.410004</td>\n",
              "      <td>104.318665</td>\n",
              "    </tr>\n",
              "    <tr>\n",
              "      <th>2021-10-18</th>\n",
              "      <td>104.570000</td>\n",
              "      <td>103.040001</td>\n",
              "      <td>104.120003</td>\n",
              "      <td>104.028915</td>\n",
              "    </tr>\n",
              "    <tr>\n",
              "      <th>2021-10-19</th>\n",
              "      <td>104.970001</td>\n",
              "      <td>103.580002</td>\n",
              "      <td>104.730003</td>\n",
              "      <td>104.638382</td>\n",
              "    </tr>\n",
              "    <tr>\n",
              "      <th>2021-10-20</th>\n",
              "      <td>106.019997</td>\n",
              "      <td>103.870003</td>\n",
              "      <td>106.000000</td>\n",
              "      <td>105.907272</td>\n",
              "    </tr>\n",
              "    <tr>\n",
              "      <th>2021-10-21</th>\n",
              "      <td>106.389999</td>\n",
              "      <td>103.010002</td>\n",
              "      <td>103.150002</td>\n",
              "      <td>103.059761</td>\n",
              "    </tr>\n",
              "    <tr>\n",
              "      <th>2021-10-22</th>\n",
              "      <td>104.510002</td>\n",
              "      <td>102.550003</td>\n",
              "      <td>104.050003</td>\n",
              "      <td>103.958977</td>\n",
              "    </tr>\n",
              "    <tr>\n",
              "      <th>2021-10-25</th>\n",
              "      <td>105.989998</td>\n",
              "      <td>103.330002</td>\n",
              "      <td>105.300003</td>\n",
              "      <td>105.207886</td>\n",
              "    </tr>\n",
              "    <tr>\n",
              "      <th>2021-10-26</th>\n",
              "      <td>110.970001</td>\n",
              "      <td>105.220001</td>\n",
              "      <td>107.440002</td>\n",
              "      <td>107.346008</td>\n",
              "    </tr>\n",
              "    <tr>\n",
              "      <th>2021-10-27</th>\n",
              "      <td>108.279999</td>\n",
              "      <td>103.690002</td>\n",
              "      <td>103.849998</td>\n",
              "      <td>103.759148</td>\n",
              "    </tr>\n",
              "    <tr>\n",
              "      <th>2021-10-28</th>\n",
              "      <td>105.379997</td>\n",
              "      <td>103.099998</td>\n",
              "      <td>105.260002</td>\n",
              "      <td>105.167915</td>\n",
              "    </tr>\n",
              "    <tr>\n",
              "      <th>2021-10-29</th>\n",
              "      <td>105.239998</td>\n",
              "      <td>104.120003</td>\n",
              "      <td>104.870003</td>\n",
              "      <td>104.778259</td>\n",
              "    </tr>\n",
              "    <tr>\n",
              "      <th>2021-11-01</th>\n",
              "      <td>106.769997</td>\n",
              "      <td>105.279999</td>\n",
              "      <td>106.230003</td>\n",
              "      <td>106.137070</td>\n",
              "    </tr>\n",
              "    <tr>\n",
              "      <th>2021-11-02</th>\n",
              "      <td>107.139999</td>\n",
              "      <td>105.300003</td>\n",
              "      <td>106.690002</td>\n",
              "      <td>106.596664</td>\n",
              "    </tr>\n",
              "    <tr>\n",
              "      <th>2021-11-03</th>\n",
              "      <td>106.339996</td>\n",
              "      <td>104.820000</td>\n",
              "      <td>105.970001</td>\n",
              "      <td>105.877296</td>\n",
              "    </tr>\n",
              "    <tr>\n",
              "      <th>2021-11-04</th>\n",
              "      <td>106.400002</td>\n",
              "      <td>104.290001</td>\n",
              "      <td>105.209999</td>\n",
              "      <td>105.117958</td>\n",
              "    </tr>\n",
              "    <tr>\n",
              "      <th>2021-11-05</th>\n",
              "      <td>109.650002</td>\n",
              "      <td>106.849998</td>\n",
              "      <td>108.739998</td>\n",
              "      <td>108.644867</td>\n",
              "    </tr>\n",
              "    <tr>\n",
              "      <th>2021-11-08</th>\n",
              "      <td>110.309998</td>\n",
              "      <td>108.320000</td>\n",
              "      <td>108.419998</td>\n",
              "      <td>108.325150</td>\n",
              "    </tr>\n",
              "    <tr>\n",
              "      <th>2021-11-09</th>\n",
              "      <td>116.169998</td>\n",
              "      <td>110.480003</td>\n",
              "      <td>111.290001</td>\n",
              "      <td>111.192642</td>\n",
              "    </tr>\n",
              "    <tr>\n",
              "      <th>2021-11-10</th>\n",
              "      <td>112.680000</td>\n",
              "      <td>108.110001</td>\n",
              "      <td>108.959999</td>\n",
              "      <td>108.864677</td>\n",
              "    </tr>\n",
              "  </tbody>\n",
              "</table>\n",
              "</div>\n",
              "      <button class=\"colab-df-convert\" onclick=\"convertToInteractive('df-3135a442-c035-4aa2-96ab-3458d2684bb1')\"\n",
              "              title=\"Convert this dataframe to an interactive table.\"\n",
              "              style=\"display:none;\">\n",
              "\n",
              "  <svg xmlns=\"http://www.w3.org/2000/svg\" height=\"24px\"viewBox=\"0 0 24 24\"\n",
              "       width=\"24px\">\n",
              "    <path d=\"M0 0h24v24H0V0z\" fill=\"none\"/>\n",
              "    <path d=\"M18.56 5.44l.94 2.06.94-2.06 2.06-.94-2.06-.94-.94-2.06-.94 2.06-2.06.94zm-11 1L8.5 8.5l.94-2.06 2.06-.94-2.06-.94L8.5 2.5l-.94 2.06-2.06.94zm10 10l.94 2.06.94-2.06 2.06-.94-2.06-.94-.94-2.06-.94 2.06-2.06.94z\"/><path d=\"M17.41 7.96l-1.37-1.37c-.4-.4-.92-.59-1.43-.59-.52 0-1.04.2-1.43.59L10.3 9.45l-7.72 7.72c-.78.78-.78 2.05 0 2.83L4 21.41c.39.39.9.59 1.41.59.51 0 1.02-.2 1.41-.59l7.78-7.78 2.81-2.81c.8-.78.8-2.07 0-2.86zM5.41 20L4 18.59l7.72-7.72 1.47 1.35L5.41 20z\"/>\n",
              "  </svg>\n",
              "      </button>\n",
              "\n",
              "\n",
              "\n",
              "    <div id=\"df-b62f80f6-52e9-47ab-a516-edaea3213e7e\">\n",
              "      <button class=\"colab-df-quickchart\" onclick=\"quickchart('df-b62f80f6-52e9-47ab-a516-edaea3213e7e')\"\n",
              "              title=\"Suggest charts.\"\n",
              "              style=\"display:none;\">\n",
              "\n",
              "<svg xmlns=\"http://www.w3.org/2000/svg\" height=\"24px\"viewBox=\"0 0 24 24\"\n",
              "     width=\"24px\">\n",
              "    <g>\n",
              "        <path d=\"M19 3H5c-1.1 0-2 .9-2 2v14c0 1.1.9 2 2 2h14c1.1 0 2-.9 2-2V5c0-1.1-.9-2-2-2zM9 17H7v-7h2v7zm4 0h-2V7h2v10zm4 0h-2v-4h2v4z\"/>\n",
              "    </g>\n",
              "</svg>\n",
              "      </button>\n",
              "    </div>\n",
              "\n",
              "<style>\n",
              "  .colab-df-quickchart {\n",
              "    background-color: #E8F0FE;\n",
              "    border: none;\n",
              "    border-radius: 50%;\n",
              "    cursor: pointer;\n",
              "    display: none;\n",
              "    fill: #1967D2;\n",
              "    height: 32px;\n",
              "    padding: 0 0 0 0;\n",
              "    width: 32px;\n",
              "  }\n",
              "\n",
              "  .colab-df-quickchart:hover {\n",
              "    background-color: #E2EBFA;\n",
              "    box-shadow: 0px 1px 2px rgba(60, 64, 67, 0.3), 0px 1px 3px 1px rgba(60, 64, 67, 0.15);\n",
              "    fill: #174EA6;\n",
              "  }\n",
              "\n",
              "  [theme=dark] .colab-df-quickchart {\n",
              "    background-color: #3B4455;\n",
              "    fill: #D2E3FC;\n",
              "  }\n",
              "\n",
              "  [theme=dark] .colab-df-quickchart:hover {\n",
              "    background-color: #434B5C;\n",
              "    box-shadow: 0px 1px 3px 1px rgba(0, 0, 0, 0.15);\n",
              "    filter: drop-shadow(0px 1px 2px rgba(0, 0, 0, 0.3));\n",
              "    fill: #FFFFFF;\n",
              "  }\n",
              "</style>\n",
              "\n",
              "    <script>\n",
              "      async function quickchart(key) {\n",
              "        const containerElement = document.querySelector('#' + key);\n",
              "        const charts = await google.colab.kernel.invokeFunction(\n",
              "            'suggestCharts', [key], {});\n",
              "      }\n",
              "    </script>\n",
              "\n",
              "      <script>\n",
              "\n",
              "function displayQuickchartButton(domScope) {\n",
              "  let quickchartButtonEl =\n",
              "    domScope.querySelector('#df-b62f80f6-52e9-47ab-a516-edaea3213e7e button.colab-df-quickchart');\n",
              "  quickchartButtonEl.style.display =\n",
              "    google.colab.kernel.accessAllowed ? 'block' : 'none';\n",
              "}\n",
              "\n",
              "        displayQuickchartButton(document);\n",
              "      </script>\n",
              "      <style>\n",
              "    .colab-df-container {\n",
              "      display:flex;\n",
              "      flex-wrap:wrap;\n",
              "      gap: 12px;\n",
              "    }\n",
              "\n",
              "    .colab-df-convert {\n",
              "      background-color: #E8F0FE;\n",
              "      border: none;\n",
              "      border-radius: 50%;\n",
              "      cursor: pointer;\n",
              "      display: none;\n",
              "      fill: #1967D2;\n",
              "      height: 32px;\n",
              "      padding: 0 0 0 0;\n",
              "      width: 32px;\n",
              "    }\n",
              "\n",
              "    .colab-df-convert:hover {\n",
              "      background-color: #E2EBFA;\n",
              "      box-shadow: 0px 1px 2px rgba(60, 64, 67, 0.3), 0px 1px 3px 1px rgba(60, 64, 67, 0.15);\n",
              "      fill: #174EA6;\n",
              "    }\n",
              "\n",
              "    [theme=dark] .colab-df-convert {\n",
              "      background-color: #3B4455;\n",
              "      fill: #D2E3FC;\n",
              "    }\n",
              "\n",
              "    [theme=dark] .colab-df-convert:hover {\n",
              "      background-color: #434B5C;\n",
              "      box-shadow: 0px 1px 3px 1px rgba(0, 0, 0, 0.15);\n",
              "      filter: drop-shadow(0px 1px 2px rgba(0, 0, 0, 0.3));\n",
              "      fill: #FFFFFF;\n",
              "    }\n",
              "  </style>\n",
              "\n",
              "      <script>\n",
              "        const buttonEl =\n",
              "          document.querySelector('#df-3135a442-c035-4aa2-96ab-3458d2684bb1 button.colab-df-convert');\n",
              "        buttonEl.style.display =\n",
              "          google.colab.kernel.accessAllowed ? 'block' : 'none';\n",
              "\n",
              "        async function convertToInteractive(key) {\n",
              "          const element = document.querySelector('#df-3135a442-c035-4aa2-96ab-3458d2684bb1');\n",
              "          const dataTable =\n",
              "            await google.colab.kernel.invokeFunction('convertToInteractive',\n",
              "                                                     [key], {});\n",
              "          if (!dataTable) return;\n",
              "\n",
              "          const docLinkHtml = 'Like what you see? Visit the ' +\n",
              "            '<a target=\"_blank\" href=https://colab.research.google.com/notebooks/data_table.ipynb>data table notebook</a>'\n",
              "            + ' to learn more about interactive tables.';\n",
              "          element.innerHTML = '';\n",
              "          dataTable['output_type'] = 'display_data';\n",
              "          await google.colab.output.renderOutput(dataTable, element);\n",
              "          const docLink = document.createElement('div');\n",
              "          docLink.innerHTML = docLinkHtml;\n",
              "          element.appendChild(docLink);\n",
              "        }\n",
              "      </script>\n",
              "    </div>\n",
              "  </div>\n"
            ]
          },
          "metadata": {},
          "execution_count": 49
        }
      ]
    },
    {
      "cell_type": "code",
      "source": [
        "df_30_days_future[\"Open\"]=0\n",
        "df_30_days_future=df_30_days_future[[\"Open\",\"High\",\"Low\",\"Close\",\"Adj Close\"]]\n",
        "old_scaled_array=scaler.transform(df_30_days_past)\n",
        "new_scaled_array=scaler.transform(df_30_days_future)\n",
        "new_scaled_df=pd.DataFrame(new_scaled_array)\n",
        "new_scaled_df.iloc[:,0]=np.nan\n",
        "full_df=pd.concat([pd.DataFrame(old_scaled_array),new_scaled_df]).reset_index().drop([\"index\"],axis=1)"
      ],
      "metadata": {
        "id": "amjMXwj9XXh_"
      },
      "execution_count": 50,
      "outputs": []
    },
    {
      "cell_type": "code",
      "source": [
        "full_df.shape"
      ],
      "metadata": {
        "colab": {
          "base_uri": "https://localhost:8080/"
        },
        "id": "KnA0aaleXZVL",
        "outputId": "9170daab-0025-4115-bcb7-b6529a86629d"
      },
      "execution_count": 51,
      "outputs": [
        {
          "output_type": "execute_result",
          "data": {
            "text/plain": [
              "(60, 5)"
            ]
          },
          "metadata": {},
          "execution_count": 51
        }
      ]
    },
    {
      "cell_type": "code",
      "source": [
        "full_df.tail()"
      ],
      "metadata": {
        "colab": {
          "base_uri": "https://localhost:8080/",
          "height": 206
        },
        "id": "7wfQ5M9SXbvD",
        "outputId": "63279c8a-5ba3-427a-fb5e-f21886679c8b"
      },
      "execution_count": 52,
      "outputs": [
        {
          "output_type": "execute_result",
          "data": {
            "text/plain": [
              "     0         1         2         3         4\n",
              "55 NaN  0.143640  0.164162  0.150135  0.349458\n",
              "56 NaN  0.152749  0.171268  0.159953  0.367565\n",
              "57 NaN  0.154599  0.175349  0.159063  0.365924\n",
              "58 NaN  0.171024  0.181345  0.167045  0.380645\n",
              "59 NaN  0.161242  0.174766  0.160565  0.368694"
            ],
            "text/html": [
              "\n",
              "\n",
              "  <div id=\"df-2c802f4e-fff9-4194-897e-28b73e81b6e6\">\n",
              "    <div class=\"colab-df-container\">\n",
              "      <div>\n",
              "<style scoped>\n",
              "    .dataframe tbody tr th:only-of-type {\n",
              "        vertical-align: middle;\n",
              "    }\n",
              "\n",
              "    .dataframe tbody tr th {\n",
              "        vertical-align: top;\n",
              "    }\n",
              "\n",
              "    .dataframe thead th {\n",
              "        text-align: right;\n",
              "    }\n",
              "</style>\n",
              "<table border=\"1\" class=\"dataframe\">\n",
              "  <thead>\n",
              "    <tr style=\"text-align: right;\">\n",
              "      <th></th>\n",
              "      <th>0</th>\n",
              "      <th>1</th>\n",
              "      <th>2</th>\n",
              "      <th>3</th>\n",
              "      <th>4</th>\n",
              "    </tr>\n",
              "  </thead>\n",
              "  <tbody>\n",
              "    <tr>\n",
              "      <th>55</th>\n",
              "      <td>NaN</td>\n",
              "      <td>0.143640</td>\n",
              "      <td>0.164162</td>\n",
              "      <td>0.150135</td>\n",
              "      <td>0.349458</td>\n",
              "    </tr>\n",
              "    <tr>\n",
              "      <th>56</th>\n",
              "      <td>NaN</td>\n",
              "      <td>0.152749</td>\n",
              "      <td>0.171268</td>\n",
              "      <td>0.159953</td>\n",
              "      <td>0.367565</td>\n",
              "    </tr>\n",
              "    <tr>\n",
              "      <th>57</th>\n",
              "      <td>NaN</td>\n",
              "      <td>0.154599</td>\n",
              "      <td>0.175349</td>\n",
              "      <td>0.159063</td>\n",
              "      <td>0.365924</td>\n",
              "    </tr>\n",
              "    <tr>\n",
              "      <th>58</th>\n",
              "      <td>NaN</td>\n",
              "      <td>0.171024</td>\n",
              "      <td>0.181345</td>\n",
              "      <td>0.167045</td>\n",
              "      <td>0.380645</td>\n",
              "    </tr>\n",
              "    <tr>\n",
              "      <th>59</th>\n",
              "      <td>NaN</td>\n",
              "      <td>0.161242</td>\n",
              "      <td>0.174766</td>\n",
              "      <td>0.160565</td>\n",
              "      <td>0.368694</td>\n",
              "    </tr>\n",
              "  </tbody>\n",
              "</table>\n",
              "</div>\n",
              "      <button class=\"colab-df-convert\" onclick=\"convertToInteractive('df-2c802f4e-fff9-4194-897e-28b73e81b6e6')\"\n",
              "              title=\"Convert this dataframe to an interactive table.\"\n",
              "              style=\"display:none;\">\n",
              "\n",
              "  <svg xmlns=\"http://www.w3.org/2000/svg\" height=\"24px\"viewBox=\"0 0 24 24\"\n",
              "       width=\"24px\">\n",
              "    <path d=\"M0 0h24v24H0V0z\" fill=\"none\"/>\n",
              "    <path d=\"M18.56 5.44l.94 2.06.94-2.06 2.06-.94-2.06-.94-.94-2.06-.94 2.06-2.06.94zm-11 1L8.5 8.5l.94-2.06 2.06-.94-2.06-.94L8.5 2.5l-.94 2.06-2.06.94zm10 10l.94 2.06.94-2.06 2.06-.94-2.06-.94-.94-2.06-.94 2.06-2.06.94z\"/><path d=\"M17.41 7.96l-1.37-1.37c-.4-.4-.92-.59-1.43-.59-.52 0-1.04.2-1.43.59L10.3 9.45l-7.72 7.72c-.78.78-.78 2.05 0 2.83L4 21.41c.39.39.9.59 1.41.59.51 0 1.02-.2 1.41-.59l7.78-7.78 2.81-2.81c.8-.78.8-2.07 0-2.86zM5.41 20L4 18.59l7.72-7.72 1.47 1.35L5.41 20z\"/>\n",
              "  </svg>\n",
              "      </button>\n",
              "\n",
              "\n",
              "\n",
              "    <div id=\"df-ddbc2968-9a52-4e68-bac6-4c78b66e0ffd\">\n",
              "      <button class=\"colab-df-quickchart\" onclick=\"quickchart('df-ddbc2968-9a52-4e68-bac6-4c78b66e0ffd')\"\n",
              "              title=\"Suggest charts.\"\n",
              "              style=\"display:none;\">\n",
              "\n",
              "<svg xmlns=\"http://www.w3.org/2000/svg\" height=\"24px\"viewBox=\"0 0 24 24\"\n",
              "     width=\"24px\">\n",
              "    <g>\n",
              "        <path d=\"M19 3H5c-1.1 0-2 .9-2 2v14c0 1.1.9 2 2 2h14c1.1 0 2-.9 2-2V5c0-1.1-.9-2-2-2zM9 17H7v-7h2v7zm4 0h-2V7h2v10zm4 0h-2v-4h2v4z\"/>\n",
              "    </g>\n",
              "</svg>\n",
              "      </button>\n",
              "    </div>\n",
              "\n",
              "<style>\n",
              "  .colab-df-quickchart {\n",
              "    background-color: #E8F0FE;\n",
              "    border: none;\n",
              "    border-radius: 50%;\n",
              "    cursor: pointer;\n",
              "    display: none;\n",
              "    fill: #1967D2;\n",
              "    height: 32px;\n",
              "    padding: 0 0 0 0;\n",
              "    width: 32px;\n",
              "  }\n",
              "\n",
              "  .colab-df-quickchart:hover {\n",
              "    background-color: #E2EBFA;\n",
              "    box-shadow: 0px 1px 2px rgba(60, 64, 67, 0.3), 0px 1px 3px 1px rgba(60, 64, 67, 0.15);\n",
              "    fill: #174EA6;\n",
              "  }\n",
              "\n",
              "  [theme=dark] .colab-df-quickchart {\n",
              "    background-color: #3B4455;\n",
              "    fill: #D2E3FC;\n",
              "  }\n",
              "\n",
              "  [theme=dark] .colab-df-quickchart:hover {\n",
              "    background-color: #434B5C;\n",
              "    box-shadow: 0px 1px 3px 1px rgba(0, 0, 0, 0.15);\n",
              "    filter: drop-shadow(0px 1px 2px rgba(0, 0, 0, 0.3));\n",
              "    fill: #FFFFFF;\n",
              "  }\n",
              "</style>\n",
              "\n",
              "    <script>\n",
              "      async function quickchart(key) {\n",
              "        const containerElement = document.querySelector('#' + key);\n",
              "        const charts = await google.colab.kernel.invokeFunction(\n",
              "            'suggestCharts', [key], {});\n",
              "      }\n",
              "    </script>\n",
              "\n",
              "      <script>\n",
              "\n",
              "function displayQuickchartButton(domScope) {\n",
              "  let quickchartButtonEl =\n",
              "    domScope.querySelector('#df-ddbc2968-9a52-4e68-bac6-4c78b66e0ffd button.colab-df-quickchart');\n",
              "  quickchartButtonEl.style.display =\n",
              "    google.colab.kernel.accessAllowed ? 'block' : 'none';\n",
              "}\n",
              "\n",
              "        displayQuickchartButton(document);\n",
              "      </script>\n",
              "      <style>\n",
              "    .colab-df-container {\n",
              "      display:flex;\n",
              "      flex-wrap:wrap;\n",
              "      gap: 12px;\n",
              "    }\n",
              "\n",
              "    .colab-df-convert {\n",
              "      background-color: #E8F0FE;\n",
              "      border: none;\n",
              "      border-radius: 50%;\n",
              "      cursor: pointer;\n",
              "      display: none;\n",
              "      fill: #1967D2;\n",
              "      height: 32px;\n",
              "      padding: 0 0 0 0;\n",
              "      width: 32px;\n",
              "    }\n",
              "\n",
              "    .colab-df-convert:hover {\n",
              "      background-color: #E2EBFA;\n",
              "      box-shadow: 0px 1px 2px rgba(60, 64, 67, 0.3), 0px 1px 3px 1px rgba(60, 64, 67, 0.15);\n",
              "      fill: #174EA6;\n",
              "    }\n",
              "\n",
              "    [theme=dark] .colab-df-convert {\n",
              "      background-color: #3B4455;\n",
              "      fill: #D2E3FC;\n",
              "    }\n",
              "\n",
              "    [theme=dark] .colab-df-convert:hover {\n",
              "      background-color: #434B5C;\n",
              "      box-shadow: 0px 1px 3px 1px rgba(0, 0, 0, 0.15);\n",
              "      filter: drop-shadow(0px 1px 2px rgba(0, 0, 0, 0.3));\n",
              "      fill: #FFFFFF;\n",
              "    }\n",
              "  </style>\n",
              "\n",
              "      <script>\n",
              "        const buttonEl =\n",
              "          document.querySelector('#df-2c802f4e-fff9-4194-897e-28b73e81b6e6 button.colab-df-convert');\n",
              "        buttonEl.style.display =\n",
              "          google.colab.kernel.accessAllowed ? 'block' : 'none';\n",
              "\n",
              "        async function convertToInteractive(key) {\n",
              "          const element = document.querySelector('#df-2c802f4e-fff9-4194-897e-28b73e81b6e6');\n",
              "          const dataTable =\n",
              "            await google.colab.kernel.invokeFunction('convertToInteractive',\n",
              "                                                     [key], {});\n",
              "          if (!dataTable) return;\n",
              "\n",
              "          const docLinkHtml = 'Like what you see? Visit the ' +\n",
              "            '<a target=\"_blank\" href=https://colab.research.google.com/notebooks/data_table.ipynb>data table notebook</a>'\n",
              "            + ' to learn more about interactive tables.';\n",
              "          element.innerHTML = '';\n",
              "          dataTable['output_type'] = 'display_data';\n",
              "          await google.colab.output.renderOutput(dataTable, element);\n",
              "          const docLink = document.createElement('div');\n",
              "          docLink.innerHTML = docLinkHtml;\n",
              "          element.appendChild(docLink);\n",
              "        }\n",
              "      </script>\n",
              "    </div>\n",
              "  </div>\n"
            ]
          },
          "metadata": {},
          "execution_count": 52
        }
      ]
    },
    {
      "cell_type": "code",
      "source": [
        "full_df.shape"
      ],
      "metadata": {
        "colab": {
          "base_uri": "https://localhost:8080/"
        },
        "id": "nqqLfgvHXhDL",
        "outputId": "de254287-da67-480f-a7a8-299d605ef5ae"
      },
      "execution_count": 53,
      "outputs": [
        {
          "output_type": "execute_result",
          "data": {
            "text/plain": [
              "(60, 5)"
            ]
          },
          "metadata": {},
          "execution_count": 53
        }
      ]
    },
    {
      "cell_type": "code",
      "source": [
        "full_df_scaled_array=full_df.values"
      ],
      "metadata": {
        "id": "a0LFi-0pXiYP"
      },
      "execution_count": 54,
      "outputs": []
    },
    {
      "cell_type": "code",
      "source": [
        "full_df_scaled_array.shape"
      ],
      "metadata": {
        "colab": {
          "base_uri": "https://localhost:8080/"
        },
        "id": "r2Lm7pMhXlpx",
        "outputId": "8bd233ee-11e1-4949-ddf0-9c1c7dff24ee"
      },
      "execution_count": 55,
      "outputs": [
        {
          "output_type": "execute_result",
          "data": {
            "text/plain": [
              "(60, 5)"
            ]
          },
          "metadata": {},
          "execution_count": 55
        }
      ]
    },
    {
      "cell_type": "code",
      "source": [
        "all_data=[]\n",
        "time_step=30\n",
        "for i in range(time_step,len(full_df_scaled_array)):\n",
        "    data_x=[]\n",
        "    data_x.append(full_df_scaled_array[i-time_step:i,0:full_df_scaled_array.shape[1]])\n",
        "    data_x=np.array(data_x)\n",
        "    prediction=my_model.predict(data_x)\n",
        "    all_data.append(prediction)\n",
        "    full_df.iloc[i,0]=prediction"
      ],
      "metadata": {
        "colab": {
          "base_uri": "https://localhost:8080/"
        },
        "id": "KmHq8BO2Xri0",
        "outputId": "176a0114-f472-4e33-d09c-3dbace167cc4"
      },
      "execution_count": 56,
      "outputs": [
        {
          "output_type": "stream",
          "name": "stdout",
          "text": [
            "1/1 [==============================] - 0s 46ms/step\n",
            "1/1 [==============================] - 0s 35ms/step\n",
            "1/1 [==============================] - 0s 35ms/step\n",
            "1/1 [==============================] - 0s 35ms/step\n",
            "1/1 [==============================] - 0s 39ms/step\n",
            "1/1 [==============================] - 0s 28ms/step\n",
            "1/1 [==============================] - 0s 26ms/step\n",
            "1/1 [==============================] - 0s 30ms/step\n",
            "1/1 [==============================] - 0s 30ms/step\n",
            "1/1 [==============================] - 0s 24ms/step\n",
            "1/1 [==============================] - 0s 25ms/step\n",
            "1/1 [==============================] - 0s 28ms/step\n",
            "1/1 [==============================] - 0s 26ms/step\n",
            "1/1 [==============================] - 0s 26ms/step\n",
            "1/1 [==============================] - 0s 27ms/step\n",
            "1/1 [==============================] - 0s 23ms/step\n",
            "1/1 [==============================] - 0s 25ms/step\n",
            "1/1 [==============================] - 0s 24ms/step\n",
            "1/1 [==============================] - 0s 29ms/step\n",
            "1/1 [==============================] - 0s 24ms/step\n",
            "1/1 [==============================] - 0s 29ms/step\n",
            "1/1 [==============================] - 0s 25ms/step\n",
            "1/1 [==============================] - 0s 56ms/step\n",
            "1/1 [==============================] - 0s 62ms/step\n",
            "1/1 [==============================] - 0s 73ms/step\n",
            "1/1 [==============================] - 0s 41ms/step\n",
            "1/1 [==============================] - 0s 43ms/step\n",
            "1/1 [==============================] - 0s 44ms/step\n",
            "1/1 [==============================] - 0s 47ms/step\n",
            "1/1 [==============================] - 0s 49ms/step\n"
          ]
        }
      ]
    },
    {
      "cell_type": "code",
      "source": [
        "all_data"
      ],
      "metadata": {
        "colab": {
          "base_uri": "https://localhost:8080/"
        },
        "id": "GsYFXff4Xxxj",
        "outputId": "fcc458e9-14e5-46c4-e19a-7d3f586c01d6"
      },
      "execution_count": 57,
      "outputs": [
        {
          "output_type": "execute_result",
          "data": {
            "text/plain": [
              "[array([[0.14153269]], dtype=float32),\n",
              " array([[0.1430549]], dtype=float32),\n",
              " array([[0.14421754]], dtype=float32),\n",
              " array([[0.14490145]], dtype=float32),\n",
              " array([[0.14508958]], dtype=float32),\n",
              " array([[0.14458098]], dtype=float32),\n",
              " array([[0.1444456]], dtype=float32),\n",
              " array([[0.14428304]], dtype=float32),\n",
              " array([[0.14388111]], dtype=float32),\n",
              " array([[0.14275816]], dtype=float32),\n",
              " array([[0.14128837]], dtype=float32),\n",
              " array([[0.140105]], dtype=float32),\n",
              " array([[0.139867]], dtype=float32),\n",
              " array([[0.13988355]], dtype=float32),\n",
              " array([[0.140234]], dtype=float32),\n",
              " array([[0.14108446]], dtype=float32),\n",
              " array([[0.14127657]], dtype=float32),\n",
              " array([[0.1412094]], dtype=float32),\n",
              " array([[0.14151314]], dtype=float32),\n",
              " array([[0.14299043]], dtype=float32),\n",
              " array([[0.14354345]], dtype=float32),\n",
              " array([[0.1437083]], dtype=float32),\n",
              " array([[0.14365205]], dtype=float32),\n",
              " array([[0.14406297]], dtype=float32),\n",
              " array([[0.14475356]], dtype=float32),\n",
              " array([[0.14517495]], dtype=float32),\n",
              " array([[0.1451848]], dtype=float32),\n",
              " array([[0.14635]], dtype=float32),\n",
              " array([[0.14793679]], dtype=float32),\n",
              " array([[0.1508453]], dtype=float32)]"
            ]
          },
          "metadata": {},
          "execution_count": 57
        }
      ]
    },
    {
      "cell_type": "code",
      "source": [
        "new_array=np.array(all_data)\n",
        "new_array=new_array.reshape(-1,1)\n",
        "prediction_copies_array = np.repeat(new_array,5, axis=-1)\n",
        "y_pred_future_30_days = scaler.inverse_transform(np.reshape(prediction_copies_array,(len(new_array),5)))[:,0]"
      ],
      "metadata": {
        "id": "eRFhfAlkX1XT"
      },
      "execution_count": 58,
      "outputs": []
    },
    {
      "cell_type": "code",
      "source": [
        "y_pred_future_30_days"
      ],
      "metadata": {
        "colab": {
          "base_uri": "https://localhost:8080/"
        },
        "id": "Pje7bitQX4dD",
        "outputId": "3b88a49d-f4a4-4a3a-c415-302d061faaa7"
      },
      "execution_count": 59,
      "outputs": [
        {
          "output_type": "execute_result",
          "data": {
            "text/plain": [
              "array([102.43936 , 102.98267 , 103.39764 , 103.641754, 103.70889 ,\n",
              "       103.52736 , 103.47904 , 103.42102 , 103.277565, 102.87676 ,\n",
              "       102.35216 , 101.92978 , 101.84483 , 101.850746, 101.97583 ,\n",
              "       102.27938 , 102.347946, 102.32397 , 102.43238 , 102.959656,\n",
              "       103.15705 , 103.21588 , 103.19581 , 103.342476, 103.58896 ,\n",
              "       103.739365, 103.74288 , 104.15877 , 104.725136, 105.763245],\n",
              "      dtype=float32)"
            ]
          },
          "metadata": {},
          "execution_count": 59
        }
      ]
    },
    {
      "cell_type": "code",
      "source": [
        "from tensorflow.keras.models import Model\n",
        "from tensorflow.keras.models import load_model"
      ],
      "metadata": {
        "id": "srFq9EPwX9f5"
      },
      "execution_count": 60,
      "outputs": []
    },
    {
      "cell_type": "code",
      "source": [
        "scaler"
      ],
      "metadata": {
        "colab": {
          "base_uri": "https://localhost:8080/",
          "height": 75
        },
        "id": "MUZodjHxX-4M",
        "outputId": "f7020780-4652-4542-aa7c-2dda0f371388"
      },
      "execution_count": 62,
      "outputs": [
        {
          "output_type": "execute_result",
          "data": {
            "text/plain": [
              "MinMaxScaler()"
            ],
            "text/html": [
              "<style>#sk-container-id-1 {color: black;background-color: white;}#sk-container-id-1 pre{padding: 0;}#sk-container-id-1 div.sk-toggleable {background-color: white;}#sk-container-id-1 label.sk-toggleable__label {cursor: pointer;display: block;width: 100%;margin-bottom: 0;padding: 0.3em;box-sizing: border-box;text-align: center;}#sk-container-id-1 label.sk-toggleable__label-arrow:before {content: \"▸\";float: left;margin-right: 0.25em;color: #696969;}#sk-container-id-1 label.sk-toggleable__label-arrow:hover:before {color: black;}#sk-container-id-1 div.sk-estimator:hover label.sk-toggleable__label-arrow:before {color: black;}#sk-container-id-1 div.sk-toggleable__content {max-height: 0;max-width: 0;overflow: hidden;text-align: left;background-color: #f0f8ff;}#sk-container-id-1 div.sk-toggleable__content pre {margin: 0.2em;color: black;border-radius: 0.25em;background-color: #f0f8ff;}#sk-container-id-1 input.sk-toggleable__control:checked~div.sk-toggleable__content {max-height: 200px;max-width: 100%;overflow: auto;}#sk-container-id-1 input.sk-toggleable__control:checked~label.sk-toggleable__label-arrow:before {content: \"▾\";}#sk-container-id-1 div.sk-estimator input.sk-toggleable__control:checked~label.sk-toggleable__label {background-color: #d4ebff;}#sk-container-id-1 div.sk-label input.sk-toggleable__control:checked~label.sk-toggleable__label {background-color: #d4ebff;}#sk-container-id-1 input.sk-hidden--visually {border: 0;clip: rect(1px 1px 1px 1px);clip: rect(1px, 1px, 1px, 1px);height: 1px;margin: -1px;overflow: hidden;padding: 0;position: absolute;width: 1px;}#sk-container-id-1 div.sk-estimator {font-family: monospace;background-color: #f0f8ff;border: 1px dotted black;border-radius: 0.25em;box-sizing: border-box;margin-bottom: 0.5em;}#sk-container-id-1 div.sk-estimator:hover {background-color: #d4ebff;}#sk-container-id-1 div.sk-parallel-item::after {content: \"\";width: 100%;border-bottom: 1px solid gray;flex-grow: 1;}#sk-container-id-1 div.sk-label:hover label.sk-toggleable__label {background-color: #d4ebff;}#sk-container-id-1 div.sk-serial::before {content: \"\";position: absolute;border-left: 1px solid gray;box-sizing: border-box;top: 0;bottom: 0;left: 50%;z-index: 0;}#sk-container-id-1 div.sk-serial {display: flex;flex-direction: column;align-items: center;background-color: white;padding-right: 0.2em;padding-left: 0.2em;position: relative;}#sk-container-id-1 div.sk-item {position: relative;z-index: 1;}#sk-container-id-1 div.sk-parallel {display: flex;align-items: stretch;justify-content: center;background-color: white;position: relative;}#sk-container-id-1 div.sk-item::before, #sk-container-id-1 div.sk-parallel-item::before {content: \"\";position: absolute;border-left: 1px solid gray;box-sizing: border-box;top: 0;bottom: 0;left: 50%;z-index: -1;}#sk-container-id-1 div.sk-parallel-item {display: flex;flex-direction: column;z-index: 1;position: relative;background-color: white;}#sk-container-id-1 div.sk-parallel-item:first-child::after {align-self: flex-end;width: 50%;}#sk-container-id-1 div.sk-parallel-item:last-child::after {align-self: flex-start;width: 50%;}#sk-container-id-1 div.sk-parallel-item:only-child::after {width: 0;}#sk-container-id-1 div.sk-dashed-wrapped {border: 1px dashed gray;margin: 0 0.4em 0.5em 0.4em;box-sizing: border-box;padding-bottom: 0.4em;background-color: white;}#sk-container-id-1 div.sk-label label {font-family: monospace;font-weight: bold;display: inline-block;line-height: 1.2em;}#sk-container-id-1 div.sk-label-container {text-align: center;}#sk-container-id-1 div.sk-container {/* jupyter's `normalize.less` sets `[hidden] { display: none; }` but bootstrap.min.css set `[hidden] { display: none !important; }` so we also need the `!important` here to be able to override the default hidden behavior on the sphinx rendered scikit-learn.org. See: https://github.com/scikit-learn/scikit-learn/issues/21755 */display: inline-block !important;position: relative;}#sk-container-id-1 div.sk-text-repr-fallback {display: none;}</style><div id=\"sk-container-id-1\" class=\"sk-top-container\"><div class=\"sk-text-repr-fallback\"><pre>MinMaxScaler()</pre><b>In a Jupyter environment, please rerun this cell to show the HTML representation or trust the notebook. <br />On GitHub, the HTML representation is unable to render, please try loading this page with nbviewer.org.</b></div><div class=\"sk-container\" hidden><div class=\"sk-item\"><div class=\"sk-estimator sk-toggleable\"><input class=\"sk-toggleable__control sk-hidden--visually\" id=\"sk-estimator-id-1\" type=\"checkbox\" checked><label for=\"sk-estimator-id-1\" class=\"sk-toggleable__label sk-toggleable__label-arrow\">MinMaxScaler</label><div class=\"sk-toggleable__content\"><pre>MinMaxScaler()</pre></div></div></div></div></div>"
            ]
          },
          "metadata": {},
          "execution_count": 62
        }
      ]
    },
    {
      "cell_type": "code",
      "source": [
        "import pickle\n",
        "scalerfile = 'scaler_model_future_value.pkl'\n",
        "pickle.dump(scaler, open(scalerfile, 'wb'))"
      ],
      "metadata": {
        "id": "Q0i60LXDYL_t"
      },
      "execution_count": 63,
      "outputs": []
    }
  ]
}